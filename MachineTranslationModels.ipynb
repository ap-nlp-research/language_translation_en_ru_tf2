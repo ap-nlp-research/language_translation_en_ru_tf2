{
  "nbformat": 4,
  "nbformat_minor": 0,
  "metadata": {
    "colab": {
      "name": "MachineTranslationModels.ipynb",
      "version": "0.3.2",
      "provenance": [],
      "include_colab_link": true
    },
    "language_info": {
      "codemirror_mode": {
        "name": "ipython",
        "version": 3
      },
      "file_extension": ".py",
      "mimetype": "text/x-python",
      "name": "python",
      "nbconvert_exporter": "python",
      "pygments_lexer": "ipython3",
      "version": "3.6.8"
    },
    "kernelspec": {
      "display_name": "Python 3",
      "language": "python",
      "name": "python3"
    },
    "accelerator": "GPU"
  },
  "cells": [
    {
      "cell_type": "markdown",
      "metadata": {
        "id": "view-in-github",
        "colab_type": "text"
      },
      "source": [
        "<a href=\"https://colab.research.google.com/github/ap-nlp-research/language_translation_en_ru_tf2/blob/master/MachineTranslationModels.ipynb\" target=\"_parent\"><img src=\"https://colab.research.google.com/assets/colab-badge.svg\" alt=\"Open In Colab\"/></a>"
      ]
    },
    {
      "cell_type": "markdown",
      "metadata": {
        "colab_type": "text",
        "id": "17OD4xTkRxeL"
      },
      "source": [
        "# Machine Translation Project\n",
        "\n",
        "\n",
        "The goal of the project is to compare the strength of the following recurrent models:\n",
        "\n",
        "1. Embedded GRU\n",
        "2. Embedded Bidirectional GRU\n",
        "3. Embedded GRU encoder-decoder model\n",
        "4. Embedded GRU encoder-decoder model with Multiplicative Attention\n",
        "\n",
        "The models implemented in Tensorflow 2.0 with Keras as a high-level API. Models are trained and analyzed based on EN-RU [wmt19_translate dataset](https://www.tensorflow.org/datasets/datasets#wmt19_translate) ([ACL 2019 FOURTH CONFERENCE ON MACHINE TRANSLATION (WMT19)](http://www.statmt.org/wmt19/translation-task.html))."
      ]
    },
    {
      "cell_type": "code",
      "metadata": {
        "colab_type": "code",
        "id": "j3gfCUyDRxeN",
        "outputId": "bddc68f4-cdfc-48b0-b502-941fef3524a5",
        "colab": {
          "base_uri": "https://localhost:8080/",
          "height": 632
        }
      },
      "source": [
        "!pip install tensorflow-gpu==2.0.0-alpha0\n",
        "!git clone https://github.com/ap-nlp-research/language_translation_en_ru_tf2.git translation_en_ru"
      ],
      "execution_count": 1,
      "outputs": [
        {
          "output_type": "stream",
          "text": [
            "Collecting tensorflow-gpu==2.0.0-alpha0\n",
            "\u001b[?25l  Downloading https://files.pythonhosted.org/packages/1a/66/32cffad095253219d53f6b6c2a436637bbe45ac4e7be0244557210dc3918/tensorflow_gpu-2.0.0a0-cp36-cp36m-manylinux1_x86_64.whl (332.1MB)\n",
            "\u001b[K     |████████████████████████████████| 332.1MB 53kB/s \n",
            "\u001b[?25hRequirement already satisfied: numpy<2.0,>=1.14.5 in /usr/local/lib/python3.6/dist-packages (from tensorflow-gpu==2.0.0-alpha0) (1.16.3)\n",
            "Collecting tb-nightly<1.14.0a20190302,>=1.14.0a20190301 (from tensorflow-gpu==2.0.0-alpha0)\n",
            "\u001b[?25l  Downloading https://files.pythonhosted.org/packages/a9/51/aa1d756644bf4624c03844115e4ac4058eff77acd786b26315f051a4b195/tb_nightly-1.14.0a20190301-py3-none-any.whl (3.0MB)\n",
            "\u001b[K     |████████████████████████████████| 3.0MB 34.3MB/s \n",
            "\u001b[?25hCollecting google-pasta>=0.1.2 (from tensorflow-gpu==2.0.0-alpha0)\n",
            "\u001b[?25l  Downloading https://files.pythonhosted.org/packages/f9/68/a14620bfb042691f532dcde8576ff82ee82e4c003cdc0a3dbee5f289cee6/google_pasta-0.1.6-py3-none-any.whl (51kB)\n",
            "\u001b[K     |████████████████████████████████| 61kB 29.0MB/s \n",
            "\u001b[?25hRequirement already satisfied: gast>=0.2.0 in /usr/local/lib/python3.6/dist-packages (from tensorflow-gpu==2.0.0-alpha0) (0.2.2)\n",
            "Requirement already satisfied: keras-applications>=1.0.6 in /usr/local/lib/python3.6/dist-packages (from tensorflow-gpu==2.0.0-alpha0) (1.0.7)\n",
            "Collecting tf-estimator-nightly<1.14.0.dev2019030116,>=1.14.0.dev2019030115 (from tensorflow-gpu==2.0.0-alpha0)\n",
            "\u001b[?25l  Downloading https://files.pythonhosted.org/packages/13/82/f16063b4eed210dc2ab057930ac1da4fbe1e91b7b051a6c8370b401e6ae7/tf_estimator_nightly-1.14.0.dev2019030115-py2.py3-none-any.whl (411kB)\n",
            "\u001b[K     |████████████████████████████████| 419kB 49.6MB/s \n",
            "\u001b[?25hRequirement already satisfied: six>=1.10.0 in /usr/local/lib/python3.6/dist-packages (from tensorflow-gpu==2.0.0-alpha0) (1.12.0)\n",
            "Requirement already satisfied: keras-preprocessing>=1.0.5 in /usr/local/lib/python3.6/dist-packages (from tensorflow-gpu==2.0.0-alpha0) (1.0.9)\n",
            "Requirement already satisfied: grpcio>=1.8.6 in /usr/local/lib/python3.6/dist-packages (from tensorflow-gpu==2.0.0-alpha0) (1.15.0)\n",
            "Requirement already satisfied: wheel>=0.26 in /usr/local/lib/python3.6/dist-packages (from tensorflow-gpu==2.0.0-alpha0) (0.33.2)\n",
            "Requirement already satisfied: astor>=0.6.0 in /usr/local/lib/python3.6/dist-packages (from tensorflow-gpu==2.0.0-alpha0) (0.7.1)\n",
            "Requirement already satisfied: absl-py>=0.7.0 in /usr/local/lib/python3.6/dist-packages (from tensorflow-gpu==2.0.0-alpha0) (0.7.1)\n",
            "Requirement already satisfied: termcolor>=1.1.0 in /usr/local/lib/python3.6/dist-packages (from tensorflow-gpu==2.0.0-alpha0) (1.1.0)\n",
            "Requirement already satisfied: protobuf>=3.6.1 in /usr/local/lib/python3.6/dist-packages (from tensorflow-gpu==2.0.0-alpha0) (3.7.1)\n",
            "Requirement already satisfied: werkzeug>=0.11.15 in /usr/local/lib/python3.6/dist-packages (from tb-nightly<1.14.0a20190302,>=1.14.0a20190301->tensorflow-gpu==2.0.0-alpha0) (0.15.2)\n",
            "Requirement already satisfied: markdown>=2.6.8 in /usr/local/lib/python3.6/dist-packages (from tb-nightly<1.14.0a20190302,>=1.14.0a20190301->tensorflow-gpu==2.0.0-alpha0) (3.1)\n",
            "Requirement already satisfied: h5py in /usr/local/lib/python3.6/dist-packages (from keras-applications>=1.0.6->tensorflow-gpu==2.0.0-alpha0) (2.8.0)\n",
            "Requirement already satisfied: setuptools in /usr/local/lib/python3.6/dist-packages (from protobuf>=3.6.1->tensorflow-gpu==2.0.0-alpha0) (41.0.1)\n",
            "Installing collected packages: tb-nightly, google-pasta, tf-estimator-nightly, tensorflow-gpu\n",
            "Successfully installed google-pasta-0.1.6 tb-nightly-1.14.0a20190301 tensorflow-gpu-2.0.0a0 tf-estimator-nightly-1.14.0.dev2019030115\n",
            "Cloning into 'translation_en_ru'...\n",
            "remote: Enumerating objects: 82, done.\u001b[K\n",
            "remote: Counting objects: 100% (82/82), done.\u001b[K\n",
            "remote: Compressing objects: 100% (65/65), done.\u001b[K\n",
            "remote: Total 82 (delta 31), reused 45 (delta 15), pack-reused 0\u001b[K\n",
            "Unpacking objects: 100% (82/82), done.\n"
          ],
          "name": "stdout"
        }
      ]
    },
    {
      "cell_type": "code",
      "metadata": {
        "colab_type": "code",
        "id": "ecoqx4K1RxeT",
        "colab": {}
      },
      "source": [
        "import os\n",
        "import pickle as pk\n",
        "import subprocess\n",
        "import re\n",
        "import numpy as np\n",
        "from functools import partial\n",
        "import tensorflow as tf\n",
        "from tensorflow import keras"
      ],
      "execution_count": 0,
      "outputs": []
    },
    {
      "cell_type": "markdown",
      "metadata": {
        "colab_type": "text",
        "id": "myYPpU6bRxeX"
      },
      "source": [
        "## Data ETL\n",
        "\n",
        "The data load, extraction, and transformation was done beforehand with [create_dataset_en_ru.py](./create_dataset_en_ru.py) script. This script stores a dictionary containing source data under 'x' label. Target data is stored under 'y' label. In addition to the source and target data, the dictionary contains x and y tockenizers (stored as 'x_tk' and 'y_tk'):"
      ]
    },
    {
      "cell_type": "markdown",
      "metadata": {
        "colab_type": "text",
        "id": "s6-C7QMFRxea"
      },
      "source": [
        "dataset: dict\n",
        "\n",
        "{\n",
        "    'x': np.ndarray,\n",
        "    'y': np.ndarray,\n",
        "    'x_tk': keras.preprocessing.text.Tokenizer,\n",
        "    'y_tk': keras.preprocessing.text.Tokenizer\n",
        "}"
      ]
    },
    {
      "cell_type": "code",
      "metadata": {
        "colab_type": "code",
        "id": "hc1RXHOURxeb",
        "colab": {}
      },
      "source": [
        "with open(\"./translation_en_ru/data/wlm_en_ru.pkl\", 'rb') as file:\n",
        "    dataset = pk.load(file)"
      ],
      "execution_count": 0,
      "outputs": []
    },
    {
      "cell_type": "markdown",
      "metadata": {
        "colab_type": "text",
        "id": "tj5lJy93Rxeg"
      },
      "source": [
        "## Utility Functions\n",
        "\n",
        "In addition to the data ETL, the code below provides two additional functions for converting logits into word indicies and converting word indicies into text."
      ]
    },
    {
      "cell_type": "code",
      "metadata": {
        "colab_type": "code",
        "id": "tjrUMAOPRxeh",
        "colab": {}
      },
      "source": [
        "def logits_to_id(logits):\n",
        "    \"\"\"\n",
        "    Turns logits into word ids\n",
        "    :param logits: Logits from a neural network\n",
        "    \"\"\"\n",
        "    return np.argmax(logits, 1)\n",
        "\n",
        "def id_to_text(idx, tokenizer):\n",
        "    \"\"\"\n",
        "    Turns id into text using the tokenizer\n",
        "    :param idx: word id\n",
        "    :param tokenizer: Keras Tokenizer fit on the labels\n",
        "    :return: String that represents the text of the logits\n",
        "    \"\"\"\n",
        "    index_to_words = {id: word for word, id in tokenizer.word_index.items()}\n",
        "    index_to_words[0] = '<PAD>'\n",
        "\n",
        "    return ' '.join([index_to_words[prediction] for prediction in idx]).replace(\" <PAD>\", \"\")"
      ],
      "execution_count": 0,
      "outputs": []
    },
    {
      "cell_type": "code",
      "metadata": {
        "colab_type": "code",
        "id": "VE45jscXRxek",
        "outputId": "7212a74a-9578-4fff-e52b-a5e8ff0aaf73",
        "colab": {
          "base_uri": "https://localhost:8080/",
          "height": 224
        }
      },
      "source": [
        "print(\"Here is an example for a sample number 1:\")\n",
        "print(\"Source('en') example:\", id_to_text(dataset['x'][0], dataset['x_tk']))\n",
        "print(\"Target('ru') example:\", id_to_text(dataset['y'][0], dataset['y_tk']))\n",
        "print(\" \")\n",
        "print(\"A sample number 2:\")\n",
        "print(\"Source('en') example:\", id_to_text(dataset['x'][-10], dataset['x_tk']))\n",
        "print(\"Target('ru') example:\", id_to_text(dataset['y'][-10], dataset['y_tk']))\n",
        "print(\"source vocabulary size:\", dataset['x'].max())\n",
        "print(\"target vocabulary size:\", dataset['y'].max())\n",
        "print(\"Source shape:\", dataset['x'].shape)\n",
        "print(\"Target shape:\", dataset['y'].shape)"
      ],
      "execution_count": 5,
      "outputs": [
        {
          "output_type": "stream",
          "text": [
            "Here is an example for a sample number 1:\n",
            "Source('en') example: the company has been registered with the municipal court in prague in section b file 1 4 8 5 7\n",
            "Target('ru') example: фирма зарегистрирована в городском суде в г праге раздел б [rare] 1 4 8 5 7\n",
            " \n",
            "A sample number 2:\n",
            "Source('en') example: six years ago i had a surgery and l 4 l 5 [rare] were [rare] now l 5 s 1 [rare] [rare] and i had a second surgery that went well\n",
            "Target('ru') example: шесть лет назад мне сделали операцию и на дисках l 4 l 5 сейчас [rare] [rare] диски l 5 s 1 и было необходимо второе хирургическое вмешательство которое произошло вчера и прошло хорошо\n",
            "source vocabulary size: 3499\n",
            "target vocabulary size: 14999\n",
            "Source shape: (14751, 148)\n",
            "Target shape: (14751, 148)\n"
          ],
          "name": "stdout"
        }
      ]
    },
    {
      "cell_type": "markdown",
      "metadata": {
        "colab_type": "text",
        "id": "g2b8qgl5Rxen"
      },
      "source": [
        "## Models\n",
        "\n",
        "The models are implemented with a similar set of parameters. The main idea is to keep models as small and simple as possible to quickly train them and validate the difference the primarely derived from model architectures. The summary of main hyper parameters presented below:\n",
        "\n",
        "* Mapping:\n",
        "    - Embeddings - word indices will be mapped into a 16-dimentional space\n",
        "    - Dense mapping - recurrence outputs mapped into the target-language space, represented with OHE, via Dense mapping\n",
        "* Layers:\n",
        "    - GRU - number of units 256\n",
        "    - Bidirectional GRU - number of untis set up to 128 in order to keep the total number of units the same (256)\n",
        "    - Batch Normalization - To speed up the training batch normalization is inserted after embeddings and before dense mapping\n",
        "* Optimization:\n",
        "    - Adam - all models trained with Adam optimizer and the same learning rate (1e-3)\n",
        "* Loss function:\n",
        "    - sparse_categorical_crossentropy_from_logits - keras.losses.sparse_categorical_crossentropy"
      ]
    },
    {
      "cell_type": "code",
      "metadata": {
        "colab_type": "code",
        "id": "6ZKvPDCFRxen",
        "colab": {}
      },
      "source": [
        "learning_rate = 1e-3\n",
        "embeddings_units = 16\n",
        "gru_units = 256\n",
        "epochs = 10\n",
        "validation_split = 0.1\n",
        "batch_size = 128\n",
        "loss = keras.losses.sparse_categorical_crossentropy"
      ],
      "execution_count": 0,
      "outputs": []
    },
    {
      "cell_type": "markdown",
      "metadata": {
        "colab_type": "text",
        "id": "1d7e-xH1Rxeq"
      },
      "source": [
        "**Model list:**\n",
        "\n",
        "1. Embedded GRU - 2 stacked GRU cells 256 units each\n",
        "2. Embedded Bidirectional GRU - 2 stacked bi-directional GRU cells 256 units each\n",
        "3. Embedded GRU encoder-decoder model - 1 GRU cell as an encoder and 1 GRU cell as a decoder (256 units each)\n",
        "4. Embedded GRU encoder-decoder model with Multiplicative Attention\n",
        "\n",
        "#### Model 1 - Embedded GRU"
      ]
    },
    {
      "cell_type": "code",
      "metadata": {
        "colab_type": "code",
        "id": "l4QhEHNaRxer",
        "outputId": "6faeca01-152a-445f-a544-608de0b5f93d",
        "colab": {
          "base_uri": "https://localhost:8080/",
          "height": 510
        }
      },
      "source": [
        "def embedded_gru_model(input_shape, output_sequence_length, source_vocab_size, target_vocab_size):\n",
        "    \"\"\"\n",
        "    Build and train a RNN model using word embedding on x and y\n",
        "    :param input_shape: Tuple of input shape\n",
        "    :param output_sequence_length: Length of output sequence\n",
        "    :param english_vocab_size: Number of unique English words in the dataset\n",
        "    :param french_vocab_size: Number of unique French words in the dataset\n",
        "    :return: Keras model built, but not trained\n",
        "    \"\"\"\n",
        "    input_seq = keras.Input(input_shape[1:])\n",
        "    if output_sequence_length>input_shape[1]:\n",
        "        expanded_seq = keras.backend.squeeze(\n",
        "            keras.layers.ZeroPadding1D((0, output_sequence_length-input_shape[1]))(\n",
        "                keras.layers.Reshape((input_shape[1], 1))(input_seq)\n",
        "            ),\n",
        "            axis = -1\n",
        "        )\n",
        "    else:\n",
        "        expanded_seq = input_seq\n",
        "        \n",
        "        \n",
        "    embedded_seq = keras.layers.TimeDistributed(keras.layers.BatchNormalization(axis=-1))(\n",
        "        keras.layers.Embedding(source_vocab_size, embeddings_units, input_length=output_sequence_length)(expanded_seq)\n",
        "    )\n",
        "    rnn = keras.layers.TimeDistributed(keras.layers.BatchNormalization(axis=-1))(\n",
        "        keras.layers.GRU(gru_units, return_sequences=True)(embedded_seq)\n",
        "    )\n",
        "    rnn = keras.layers.TimeDistributed(keras.layers.BatchNormalization(axis=-1))(\n",
        "        keras.layers.GRU(gru_units, return_sequences=True)(rnn)\n",
        "    )\n",
        "    logits = keras.layers.TimeDistributed(keras.layers.BatchNormalization(axis=-1))(\n",
        "        keras.layers.TimeDistributed(keras.layers.Dense(4*gru_units, activation='elu'))(rnn)\n",
        "    )\n",
        "    probabilities = keras.layers.TimeDistributed(keras.layers.Dense(target_vocab_size, activation='softmax'))(logits)\n",
        "    \n",
        "    model = keras.Model(input_seq, probabilities)\n",
        "    \n",
        "    model.compile(loss=loss,\n",
        "                  optimizer=keras.optimizers.Adam(learning_rate, clipnorm=3.0),\n",
        "                  metrics=['accuracy'])\n",
        "    return model\n",
        "\n",
        "  \n",
        "# Train the neural network\n",
        "keras.backend.clear_session()\n",
        "embed_rnn_model = embedded_gru_model(\n",
        "    dataset['x'].shape,\n",
        "    dataset['y'].shape[1],\n",
        "    dataset['x'].max()+1,\n",
        "    dataset['y'].max()+1)\n",
        "\n",
        "\n",
        "\n",
        "print(\"Model summary:\")\n",
        "embed_rnn_model.summary()"
      ],
      "execution_count": 10,
      "outputs": [
        {
          "output_type": "stream",
          "text": [
            "Model summary:\n",
            "Model: \"model\"\n",
            "_________________________________________________________________\n",
            "Layer (type)                 Output Shape              Param #   \n",
            "=================================================================\n",
            "input_1 (InputLayer)         [(None, 148)]             0         \n",
            "_________________________________________________________________\n",
            "embedding (Embedding)        (None, 148, 16)           56000     \n",
            "_________________________________________________________________\n",
            "time_distributed (TimeDistri (None, 148, 16)           64        \n",
            "_________________________________________________________________\n",
            "unified_gru (UnifiedGRU)     (None, 148, 256)          210432    \n",
            "_________________________________________________________________\n",
            "time_distributed_1 (TimeDist (None, 148, 256)          1024      \n",
            "_________________________________________________________________\n",
            "unified_gru_1 (UnifiedGRU)   (None, 148, 256)          394752    \n",
            "_________________________________________________________________\n",
            "time_distributed_2 (TimeDist (None, 148, 256)          1024      \n",
            "_________________________________________________________________\n",
            "time_distributed_4 (TimeDist (None, 148, 1024)         263168    \n",
            "_________________________________________________________________\n",
            "time_distributed_3 (TimeDist (None, 148, 1024)         4096      \n",
            "_________________________________________________________________\n",
            "time_distributed_5 (TimeDist (None, 148, 15000)        15375000  \n",
            "=================================================================\n",
            "Total params: 16,305,560\n",
            "Trainable params: 16,302,456\n",
            "Non-trainable params: 3,104\n",
            "_________________________________________________________________\n"
          ],
          "name": "stdout"
        }
      ]
    },
    {
      "cell_type": "code",
      "metadata": {
        "colab_type": "code",
        "id": "48rVQw-ch2ek",
        "outputId": "be080d7d-0a9d-4e36-cad7-dac2bfda361f",
        "colab": {
          "base_uri": "https://localhost:8080/",
          "height": 391
        }
      },
      "source": [
        "embed_rnn_model.fit(\n",
        "    dataset['x'], \n",
        "    dataset['y'][:,:, None], \n",
        "    batch_size=batch_size, \n",
        "    epochs=epochs, \n",
        "    validation_split=validation_split)"
      ],
      "execution_count": 11,
      "outputs": [
        {
          "output_type": "stream",
          "text": [
            "Train on 13275 samples, validate on 1476 samples\n",
            "Epoch 1/10\n",
            "13275/13275 [==============================] - 91s 7ms/sample - loss: 1.9598 - accuracy: 0.8532 - val_loss: 12.4933 - val_accuracy: 0.0055\n",
            "Epoch 2/10\n",
            "13275/13275 [==============================] - 88s 7ms/sample - loss: 1.3574 - accuracy: 0.8732 - val_loss: 15.1439 - val_accuracy: 0.0130\n",
            "Epoch 3/10\n",
            "13275/13275 [==============================] - 88s 7ms/sample - loss: 1.2443 - accuracy: 0.8758 - val_loss: 9.5015 - val_accuracy: 0.4908\n",
            "Epoch 4/10\n",
            "13275/13275 [==============================] - 88s 7ms/sample - loss: 0.9327 - accuracy: 0.8916 - val_loss: 1.0343 - val_accuracy: 0.8911\n",
            "Epoch 5/10\n",
            "13275/13275 [==============================] - 88s 7ms/sample - loss: 0.8367 - accuracy: 0.8945 - val_loss: 0.9546 - val_accuracy: 0.8918\n",
            "Epoch 6/10\n",
            "13275/13275 [==============================] - 88s 7ms/sample - loss: 0.7760 - accuracy: 0.8959 - val_loss: 0.8842 - val_accuracy: 0.8938\n",
            "Epoch 7/10\n",
            "13275/13275 [==============================] - 88s 7ms/sample - loss: 0.7174 - accuracy: 0.8976 - val_loss: 0.8512 - val_accuracy: 0.8943\n",
            "Epoch 8/10\n",
            "13275/13275 [==============================] - 88s 7ms/sample - loss: 0.6699 - accuracy: 0.8993 - val_loss: 0.8559 - val_accuracy: 0.8931\n",
            "Epoch 9/10\n",
            "13275/13275 [==============================] - 89s 7ms/sample - loss: 0.6283 - accuracy: 0.9010 - val_loss: 0.8772 - val_accuracy: 0.8924\n",
            "Epoch 10/10\n",
            "13275/13275 [==============================] - 88s 7ms/sample - loss: 0.5855 - accuracy: 0.9034 - val_loss: 0.9013 - val_accuracy: 0.8899\n"
          ],
          "name": "stdout"
        },
        {
          "output_type": "execute_result",
          "data": {
            "text/plain": [
              "<tensorflow.python.keras.callbacks.History at 0x7f780f72edd8>"
            ]
          },
          "metadata": {
            "tags": []
          },
          "execution_count": 11
        }
      ]
    },
    {
      "cell_type": "code",
      "metadata": {
        "colab_type": "code",
        "id": "u1Y2tPv5Rxev",
        "outputId": "c3926d36-0a5e-4f5c-f188-7aa22683cc0a",
        "colab": {
          "base_uri": "https://localhost:8080/",
          "height": 85
        }
      },
      "source": [
        "# Print prediction(s)\n",
        "sentense_id = 2\n",
        "x_sample = dataset['x'][sentense_id]\n",
        "y_sample = dataset['y'][sentense_id]\n",
        "print(\"Source('en') example:\", id_to_text( x_sample, dataset['x_tk'] ))\n",
        "print(\"Source('ru') example:\", id_to_text( y_sample, dataset['y_tk'] ))\n",
        "prediction = embed_rnn_model.predict(x_sample[None, :], verbose=1).squeeze()\n",
        "print(\"Translation(en_ru) example:\", id_to_text( logits_to_id(prediction), dataset['y_tk'] ))"
      ],
      "execution_count": 12,
      "outputs": [
        {
          "output_type": "stream",
          "text": [
            "Source('en') example: our team consists of highly experienced professionals who have already successfully implemented several [rare]\n",
            "Source('ru') example: наша команда состоит из [rare] специалистов которые уже реализовали ряд успешных проектов\n",
            "1/1 [==============================] - 0s 106ms/sample\n",
            "Translation(en_ru) example: наш команда [rare] [rare] [rare] специалистов [rare] реализовали реализовали [rare] успешных\n"
          ],
          "name": "stdout"
        }
      ]
    },
    {
      "cell_type": "markdown",
      "metadata": {
        "colab_type": "text",
        "id": "ORh1vXotA9t8"
      },
      "source": [
        "#### Model 2 - BiDirectional GRU"
      ]
    },
    {
      "cell_type": "code",
      "metadata": {
        "colab_type": "code",
        "id": "ZTraW66N41zP",
        "outputId": "27c68f2a-55fc-4d73-cdb9-23aafad97e10",
        "colab": {
          "base_uri": "https://localhost:8080/",
          "height": 510
        }
      },
      "source": [
        "def bd_gru_model(input_shape, output_sequence_length, source_vocab_size, target_vocab_size):\n",
        "    \"\"\"\n",
        "    Build and train a RNN model using word embedding on x and y\n",
        "    :param input_shape: Tuple of input shape\n",
        "    :param output_sequence_length: Length of output sequence\n",
        "    :param english_vocab_size: Number of unique English words in the dataset\n",
        "    :param french_vocab_size: Number of unique French words in the dataset\n",
        "    :return: Keras model built, but not trained\n",
        "    \"\"\"\n",
        "    input_seq = keras.Input(input_shape[1:])\n",
        "    if output_sequence_length>input_shape[1]:\n",
        "        expanded_seq = keras.backend.squeeze(\n",
        "            keras.layers.ZeroPadding1D((0, output_sequence_length-input_shape[1]))(\n",
        "                keras.layers.Reshape((input_shape[1], 1))(input_seq)\n",
        "            ),\n",
        "            axis = -1\n",
        "        )\n",
        "    else:\n",
        "        expanded_seq = input_seq\n",
        "    embedded_seq = keras.layers.TimeDistributed(keras.layers.BatchNormalization(axis=-1))(\n",
        "        keras.layers.Embedding(source_vocab_size, embeddings_units, input_length=output_sequence_length)(expanded_seq)\n",
        "    )\n",
        "    rnn = keras.layers.TimeDistributed(keras.layers.BatchNormalization(axis=-1))(\n",
        "        keras.layers.Bidirectional(keras.layers.GRU(int(gru_units/2), return_sequences=True))(embedded_seq)\n",
        "    )\n",
        "    rnn = keras.layers.TimeDistributed(keras.layers.BatchNormalization(axis=-1))(\n",
        "        keras.layers.Bidirectional(keras.layers.GRU(int(gru_units/2), return_sequences=True))(rnn)\n",
        "    )\n",
        "    logits = keras.layers.TimeDistributed(keras.layers.BatchNormalization(axis=-1))(\n",
        "        keras.layers.TimeDistributed(keras.layers.Dense(4*gru_units, activation='elu'))(rnn)\n",
        "    )\n",
        "    probabilities = keras.layers.TimeDistributed(keras.layers.Dense(target_vocab_size, activation='softmax'))(logits)\n",
        "    \n",
        "    model = keras.Model(input_seq, probabilities)\n",
        "    \n",
        "    model.compile(loss=loss,\n",
        "                  optimizer=keras.optimizers.Adam(learning_rate, clipnorm=3.0),\n",
        "                  metrics=['accuracy'])\n",
        "    return model\n",
        "\n",
        "  \n",
        "# Train the neural network\n",
        "keras.backend.clear_session()\n",
        "bd_rnn_model = embedded_gru_model(\n",
        "    dataset['x'].shape,\n",
        "    dataset['y'].shape[1],\n",
        "    dataset['x'].max()+1,\n",
        "    dataset['y'].max()+1)\n",
        "\n",
        "\n",
        "\n",
        "print(\"Model summary:\")\n",
        "bd_rnn_model.summary()"
      ],
      "execution_count": 13,
      "outputs": [
        {
          "output_type": "stream",
          "text": [
            "Model summary:\n",
            "Model: \"model\"\n",
            "_________________________________________________________________\n",
            "Layer (type)                 Output Shape              Param #   \n",
            "=================================================================\n",
            "input_1 (InputLayer)         [(None, 148)]             0         \n",
            "_________________________________________________________________\n",
            "embedding (Embedding)        (None, 148, 16)           56000     \n",
            "_________________________________________________________________\n",
            "time_distributed (TimeDistri (None, 148, 16)           64        \n",
            "_________________________________________________________________\n",
            "unified_gru (UnifiedGRU)     (None, 148, 256)          210432    \n",
            "_________________________________________________________________\n",
            "time_distributed_1 (TimeDist (None, 148, 256)          1024      \n",
            "_________________________________________________________________\n",
            "unified_gru_1 (UnifiedGRU)   (None, 148, 256)          394752    \n",
            "_________________________________________________________________\n",
            "time_distributed_2 (TimeDist (None, 148, 256)          1024      \n",
            "_________________________________________________________________\n",
            "time_distributed_4 (TimeDist (None, 148, 1024)         263168    \n",
            "_________________________________________________________________\n",
            "time_distributed_3 (TimeDist (None, 148, 1024)         4096      \n",
            "_________________________________________________________________\n",
            "time_distributed_5 (TimeDist (None, 148, 15000)        15375000  \n",
            "=================================================================\n",
            "Total params: 16,305,560\n",
            "Trainable params: 16,302,456\n",
            "Non-trainable params: 3,104\n",
            "_________________________________________________________________\n"
          ],
          "name": "stdout"
        }
      ]
    },
    {
      "cell_type": "code",
      "metadata": {
        "colab_type": "code",
        "id": "hFKX2UJHBmvh",
        "outputId": "aa7de7fe-3ae8-443c-bce8-e78378454f7d",
        "colab": {
          "base_uri": "https://localhost:8080/",
          "height": 391
        }
      },
      "source": [
        "bd_rnn_model.fit(\n",
        "    dataset['x'], \n",
        "    dataset['y'][:,:, None], \n",
        "    batch_size=batch_size, \n",
        "    epochs=epochs, \n",
        "    validation_split=validation_split\n",
        ")"
      ],
      "execution_count": 14,
      "outputs": [
        {
          "output_type": "stream",
          "text": [
            "Train on 13275 samples, validate on 1476 samples\n",
            "Epoch 1/10\n",
            "13275/13275 [==============================] - 88s 7ms/sample - loss: 1.9653 - accuracy: 0.8523 - val_loss: 15.2378 - val_accuracy: 0.0124\n",
            "Epoch 2/10\n",
            "13275/13275 [==============================] - 87s 7ms/sample - loss: 1.3419 - accuracy: 0.8735 - val_loss: 15.1461 - val_accuracy: 0.0130\n",
            "Epoch 3/10\n",
            "13275/13275 [==============================] - 87s 7ms/sample - loss: 1.1540 - accuracy: 0.8819 - val_loss: 1.8334 - val_accuracy: 0.7888\n",
            "Epoch 4/10\n",
            "13275/13275 [==============================] - 87s 7ms/sample - loss: 0.9157 - accuracy: 0.8926 - val_loss: 1.1749 - val_accuracy: 0.8744\n",
            "Epoch 5/10\n",
            "13275/13275 [==============================] - 88s 7ms/sample - loss: 0.8413 - accuracy: 0.8945 - val_loss: 1.0875 - val_accuracy: 0.8907\n",
            "Epoch 6/10\n",
            "13275/13275 [==============================] - 88s 7ms/sample - loss: 0.7923 - accuracy: 0.8959 - val_loss: 0.9844 - val_accuracy: 0.8917\n",
            "Epoch 7/10\n",
            "13275/13275 [==============================] - 88s 7ms/sample - loss: 0.7499 - accuracy: 0.8969 - val_loss: 0.8524 - val_accuracy: 0.8940\n",
            "Epoch 8/10\n",
            "13275/13275 [==============================] - 88s 7ms/sample - loss: 0.7132 - accuracy: 0.8982 - val_loss: 0.8590 - val_accuracy: 0.8945\n",
            "Epoch 9/10\n",
            "13275/13275 [==============================] - 88s 7ms/sample - loss: 0.6785 - accuracy: 0.8994 - val_loss: 0.8569 - val_accuracy: 0.8945\n",
            "Epoch 10/10\n",
            "13275/13275 [==============================] - 89s 7ms/sample - loss: 0.6441 - accuracy: 0.9007 - val_loss: 0.8765 - val_accuracy: 0.8901\n"
          ],
          "name": "stdout"
        },
        {
          "output_type": "execute_result",
          "data": {
            "text/plain": [
              "<tensorflow.python.keras.callbacks.History at 0x7f75ded9cb38>"
            ]
          },
          "metadata": {
            "tags": []
          },
          "execution_count": 14
        }
      ]
    },
    {
      "cell_type": "code",
      "metadata": {
        "colab_type": "code",
        "id": "7OZpP5XBB6z4",
        "outputId": "8968518b-1ddd-43c2-b1ba-7072debb7475",
        "colab": {
          "base_uri": "https://localhost:8080/",
          "height": 85
        }
      },
      "source": [
        "# Print prediction(s)\n",
        "sentense_id = 2\n",
        "x_sample = dataset['x'][sentense_id]\n",
        "y_sample = dataset['y'][sentense_id]\n",
        "print(\"Source('en') example:\", id_to_text( x_sample, dataset['x_tk'] ))\n",
        "print(\"Source('ru') example:\", id_to_text( y_sample, dataset['y_tk'] ))\n",
        "prediction = bd_rnn_model.predict(x_sample[None, :], verbose=1).squeeze()\n",
        "print(\"Translation(en_ru) example:\", id_to_text( logits_to_id(prediction), dataset['y_tk'] ))"
      ],
      "execution_count": 15,
      "outputs": [
        {
          "output_type": "stream",
          "text": [
            "Source('en') example: our team consists of highly experienced professionals who have already successfully implemented several [rare]\n",
            "Source('ru') example: наша команда состоит из [rare] специалистов которые уже реализовали ряд успешных проектов\n",
            "1/1 [==============================] - 0s 110ms/sample\n",
            "Translation(en_ru) example: наши [rare] [rare] из [rare] [rare] [rare] [rare] [rare] [rare] [rare] [rare] [rare] [rare]\n"
          ],
          "name": "stdout"
        }
      ]
    }
  ]
}