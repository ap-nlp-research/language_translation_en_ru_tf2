{
  "nbformat": 4,
  "nbformat_minor": 0,
  "metadata": {
    "colab": {
      "name": "MachineTranslationModels.ipynb",
      "version": "0.3.2",
      "provenance": [],
      "include_colab_link": true
    },
    "language_info": {
      "codemirror_mode": {
        "name": "ipython",
        "version": 3
      },
      "file_extension": ".py",
      "mimetype": "text/x-python",
      "name": "python",
      "nbconvert_exporter": "python",
      "pygments_lexer": "ipython3",
      "version": "3.6.8"
    },
    "kernelspec": {
      "display_name": "Python 3",
      "language": "python",
      "name": "python3"
    },
    "accelerator": "GPU"
  },
  "cells": [
    {
      "cell_type": "markdown",
      "metadata": {
        "id": "view-in-github",
        "colab_type": "text"
      },
      "source": [
        "<a href=\"https://colab.research.google.com/github/ap-nlp-research/language_translation_en_ru_tf2/blob/master/MachineTranslationModels.ipynb\" target=\"_parent\"><img src=\"https://colab.research.google.com/assets/colab-badge.svg\" alt=\"Open In Colab\"/></a>"
      ]
    },
    {
      "cell_type": "markdown",
      "metadata": {
        "colab_type": "text",
        "id": "17OD4xTkRxeL"
      },
      "source": [
        "# Machine Translation Project\n",
        "\n",
        "\n",
        "The goal of the project is to compare the strength of the following recurrent models:\n",
        "\n",
        "1. Embedded GRU\n",
        "2. Embedded Bidirectional GRU\n",
        "3. Embedded GRU encoder-decoder model\n",
        "4. Embedded GRU encoder-decoder model with Multiplicative Attention\n",
        "\n",
        "The models implemented in Tensorflow 2.0 with Keras as a high-level API. Models are trained and analyzed based on EN-RU [wmt19_translate dataset](https://www.tensorflow.org/datasets/datasets#wmt19_translate) ([ACL 2019 FOURTH CONFERENCE ON MACHINE TRANSLATION (WMT19)](http://www.statmt.org/wmt19/translation-task.html))."
      ]
    },
    {
      "cell_type": "code",
      "metadata": {
        "colab_type": "code",
        "id": "j3gfCUyDRxeN",
        "outputId": "880b8a75-e9c9-4bc3-fc62-11ee33350b8a",
        "colab": {
          "base_uri": "https://localhost:8080/",
          "height": 462
        }
      },
      "source": [
        "!pip install tensorflow-gpu==2.0.0-alpha0\n",
        "!git clone https://github.com/ap-nlp-research/language_translation_en_ru_tf2.git translation_en_ru"
      ],
      "execution_count": 1,
      "outputs": [
        {
          "output_type": "stream",
          "text": [
            "Requirement already satisfied: tensorflow-gpu==2.0.0-alpha0 in /usr/local/lib/python3.6/dist-packages (2.0.0a0)\n",
            "Requirement already satisfied: astor>=0.6.0 in /usr/local/lib/python3.6/dist-packages (from tensorflow-gpu==2.0.0-alpha0) (0.7.1)\n",
            "Requirement already satisfied: termcolor>=1.1.0 in /usr/local/lib/python3.6/dist-packages (from tensorflow-gpu==2.0.0-alpha0) (1.1.0)\n",
            "Requirement already satisfied: tf-estimator-nightly<1.14.0.dev2019030116,>=1.14.0.dev2019030115 in /usr/local/lib/python3.6/dist-packages (from tensorflow-gpu==2.0.0-alpha0) (1.14.0.dev2019030115)\n",
            "Requirement already satisfied: grpcio>=1.8.6 in /usr/local/lib/python3.6/dist-packages (from tensorflow-gpu==2.0.0-alpha0) (1.15.0)\n",
            "Requirement already satisfied: google-pasta>=0.1.2 in /usr/local/lib/python3.6/dist-packages (from tensorflow-gpu==2.0.0-alpha0) (0.1.6)\n",
            "Requirement already satisfied: six>=1.10.0 in /usr/local/lib/python3.6/dist-packages (from tensorflow-gpu==2.0.0-alpha0) (1.12.0)\n",
            "Requirement already satisfied: protobuf>=3.6.1 in /usr/local/lib/python3.6/dist-packages (from tensorflow-gpu==2.0.0-alpha0) (3.7.1)\n",
            "Requirement already satisfied: absl-py>=0.7.0 in /usr/local/lib/python3.6/dist-packages (from tensorflow-gpu==2.0.0-alpha0) (0.7.1)\n",
            "Requirement already satisfied: wheel>=0.26 in /usr/local/lib/python3.6/dist-packages (from tensorflow-gpu==2.0.0-alpha0) (0.33.1)\n",
            "Requirement already satisfied: gast>=0.2.0 in /usr/local/lib/python3.6/dist-packages (from tensorflow-gpu==2.0.0-alpha0) (0.2.2)\n",
            "Requirement already satisfied: tb-nightly<1.14.0a20190302,>=1.14.0a20190301 in /usr/local/lib/python3.6/dist-packages (from tensorflow-gpu==2.0.0-alpha0) (1.14.0a20190301)\n",
            "Requirement already satisfied: numpy<2.0,>=1.14.5 in /usr/local/lib/python3.6/dist-packages (from tensorflow-gpu==2.0.0-alpha0) (1.16.3)\n",
            "Requirement already satisfied: keras-applications>=1.0.6 in /usr/local/lib/python3.6/dist-packages (from tensorflow-gpu==2.0.0-alpha0) (1.0.7)\n",
            "Requirement already satisfied: keras-preprocessing>=1.0.5 in /usr/local/lib/python3.6/dist-packages (from tensorflow-gpu==2.0.0-alpha0) (1.0.9)\n",
            "Requirement already satisfied: setuptools in /usr/local/lib/python3.6/dist-packages (from protobuf>=3.6.1->tensorflow-gpu==2.0.0-alpha0) (41.0.1)\n",
            "Requirement already satisfied: werkzeug>=0.11.15 in /usr/local/lib/python3.6/dist-packages (from tb-nightly<1.14.0a20190302,>=1.14.0a20190301->tensorflow-gpu==2.0.0-alpha0) (0.15.2)\n",
            "Requirement already satisfied: markdown>=2.6.8 in /usr/local/lib/python3.6/dist-packages (from tb-nightly<1.14.0a20190302,>=1.14.0a20190301->tensorflow-gpu==2.0.0-alpha0) (3.1)\n",
            "Requirement already satisfied: h5py in /usr/local/lib/python3.6/dist-packages (from keras-applications>=1.0.6->tensorflow-gpu==2.0.0-alpha0) (2.8.0)\n",
            "Cloning into 'translation_en_ru'...\n",
            "remote: Enumerating objects: 61, done.\u001b[K\n",
            "remote: Counting objects: 100% (61/61), done.\u001b[K\n",
            "remote: Compressing objects: 100% (52/52), done.\u001b[K\n",
            "remote: Total 61 (delta 19), reused 33 (delta 8), pack-reused 0\u001b[K\n",
            "Unpacking objects: 100% (61/61), done.\n"
          ],
          "name": "stdout"
        }
      ]
    },
    {
      "cell_type": "code",
      "metadata": {
        "colab_type": "code",
        "id": "ecoqx4K1RxeT",
        "colab": {}
      },
      "source": [
        "import os\n",
        "import pickle as pk\n",
        "import subprocess\n",
        "import re\n",
        "import numpy as np\n",
        "from functools import partial\n",
        "import tensorflow as tf\n",
        "from tensorflow import keras"
      ],
      "execution_count": 0,
      "outputs": []
    },
    {
      "cell_type": "markdown",
      "metadata": {
        "colab_type": "text",
        "id": "myYPpU6bRxeX"
      },
      "source": [
        "## Data ETL\n",
        "\n",
        "The data load, extraction, and transformation was done beforehand with [create_dataset_en_ru.py](./create_dataset_en_ru.py) script. This script stores a dictionary containing source data under 'x' label. Target data is stored under 'y' label. In addition to the source and target data, the dictionary contains x and y tockenizers (stored as 'x_tk' and 'y_tk'):"
      ]
    },
    {
      "cell_type": "markdown",
      "metadata": {
        "colab_type": "text",
        "id": "s6-C7QMFRxea"
      },
      "source": [
        "dataset: dict\n",
        "\n",
        "{\n",
        "    'x': np.ndarray,\n",
        "    'y': np.ndarray,\n",
        "    'x_tk': keras.preprocessing.text.Tokenizer,\n",
        "    'y_tk': keras.preprocessing.text.Tokenizer\n",
        "}"
      ]
    },
    {
      "cell_type": "code",
      "metadata": {
        "colab_type": "code",
        "id": "hc1RXHOURxeb",
        "colab": {}
      },
      "source": [
        "with open(\"./translation_en_ru/data/wlm_en_ru.pkl\", 'rb') as file:\n",
        "    dataset = pk.load(file)"
      ],
      "execution_count": 0,
      "outputs": []
    },
    {
      "cell_type": "markdown",
      "metadata": {
        "colab_type": "text",
        "id": "tj5lJy93Rxeg"
      },
      "source": [
        "## Utility Functions\n",
        "\n",
        "In addition to the data ETL, the code below provides two additional functions for converting logits into word indicies and converting word indicies into text."
      ]
    },
    {
      "cell_type": "code",
      "metadata": {
        "colab_type": "code",
        "id": "tjrUMAOPRxeh",
        "colab": {}
      },
      "source": [
        "def logits_to_id(logits):\n",
        "    \"\"\"\n",
        "    Turns logits into word ids\n",
        "    :param logits: Logits from a neural network\n",
        "    \"\"\"\n",
        "    return np.argmax(logits, 1)\n",
        "\n",
        "def id_to_text(idx, tokenizer):\n",
        "    \"\"\"\n",
        "    Turns id into text using the tokenizer\n",
        "    :param idx: word id\n",
        "    :param tokenizer: Keras Tokenizer fit on the labels\n",
        "    :return: String that represents the text of the logits\n",
        "    \"\"\"\n",
        "    index_to_words = {id: word for word, id in tokenizer.word_index.items()}\n",
        "    index_to_words[0] = '<PAD>'\n",
        "\n",
        "    return ' '.join([index_to_words[prediction] for prediction in idx]).replace(\" <PAD>\", \"\")"
      ],
      "execution_count": 0,
      "outputs": []
    },
    {
      "cell_type": "code",
      "metadata": {
        "colab_type": "code",
        "id": "VE45jscXRxek",
        "outputId": "e408da00-ddbd-4956-dac3-4f0ebb85159c",
        "colab": {
          "base_uri": "https://localhost:8080/",
          "height": 204
        }
      },
      "source": [
        "print(\"Here is an example for a sample number 1:\")\n",
        "print(\"Source('en') example:\", id_to_text(dataset['x'][0], dataset['x_tk']))\n",
        "print(\"Target('ru') example:\", id_to_text(dataset['y'][0], dataset['y_tk']))\n",
        "print(\" \")\n",
        "print(\"A sample number 2:\")\n",
        "print(\"Source('en') example:\", id_to_text(dataset['x'][-10], dataset['x_tk']))\n",
        "print(\"Target('ru') example:\", id_to_text(dataset['y'][-10], dataset['y_tk']))\n",
        "print(\"source vocabulary size:\", dataset['x'].max())\n",
        "print(\"target vocabulary size:\", dataset['y'].max())\n",
        "print(\"Source shape:\", dataset['x'].shape)\n",
        "print(\"Target shape:\", dataset['y'].shape)"
      ],
      "execution_count": 13,
      "outputs": [
        {
          "output_type": "stream",
          "text": [
            "Here is an example for a sample number 1:\n",
            "Source('en') example: the company has been registered with the municipal court in prague in section b file 1 4 8 5 7\n",
            "Target('ru') example: фирма зарегистрирована в городском суде в г праге раздел б вкладыш 1 4 8 5 7\n",
            " \n",
            "A sample number 2:\n",
            "Source('en') example: we all need to [rare] [rare] words because it is for our own good\n",
            "Target('ru') example: мы все нуждаемся в словах любви и они делают нас лучше\n",
            "source vocabulary size: 3499\n",
            "target vocabulary size: 14999\n",
            "Source shape: (13643, 136)\n",
            "Target shape: (13643, 136)\n"
          ],
          "name": "stdout"
        }
      ]
    },
    {
      "cell_type": "markdown",
      "metadata": {
        "colab_type": "text",
        "id": "g2b8qgl5Rxen"
      },
      "source": [
        "## Models\n",
        "\n",
        "The models are implemented with a similar set of parameters. The main idea is to keep models as small and simple as possible to quickly train them and validate the difference the primarely derived from model architectures. The summary of main hyper parameters presented below:\n",
        "\n",
        "* Mapping:\n",
        "    - Embeddings - word indices will be mapped into a 16-dimentional space\n",
        "    - Dense mapping - recurrence outputs mapped into the target-language space, represented with OHE, via Dense mapping\n",
        "* Layers:\n",
        "    - GRU - number of units 256\n",
        "    - Bidirectional GRU - number of untis set up to 128 in order to keep the total number of units the same (256)\n",
        "    - Batch Normalization - To speed up the training batch normalization is inserted after embeddings and before dense mapping\n",
        "* Optimization:\n",
        "    - Adam - all models trained with Adam optimizer and the same learning rate (1e-3)\n",
        "* Loss function:\n",
        "    - sparse_categorical_crossentropy_from_logits - keras.losses.sparse_categorical_crossentropy"
      ]
    },
    {
      "cell_type": "code",
      "metadata": {
        "colab_type": "code",
        "id": "6ZKvPDCFRxen",
        "colab": {}
      },
      "source": [
        "learning_rate = 1e-3\n",
        "embeddings_units = 32\n",
        "gru_units = 256\n",
        "epochs = 10\n",
        "validation_split = 0.1\n",
        "batch_size = 256\n",
        "loss = keras.losses.sparse_categorical_crossentropy"
      ],
      "execution_count": 0,
      "outputs": []
    },
    {
      "cell_type": "markdown",
      "metadata": {
        "colab_type": "text",
        "id": "1d7e-xH1Rxeq"
      },
      "source": [
        "**Model list:**\n",
        "\n",
        "1. Embedded GRU\n",
        "2. Embedded Bidirectional GRU\n",
        "3. Embedded GRU encoder-decoder model\n",
        "4. Embedded GRU encoder-decoder model with Multiplicative Attention\n",
        "\n",
        "#### Model 1 - Embedded GRU"
      ]
    },
    {
      "cell_type": "code",
      "metadata": {
        "colab_type": "code",
        "id": "l4QhEHNaRxer",
        "outputId": "a2aa1c86-119c-4958-854f-fe5e1d62f848",
        "colab": {
          "base_uri": "https://localhost:8080/",
          "height": 442
        }
      },
      "source": [
        "def embedded_gru_model(input_shape, output_sequence_length, source_vocab_size, target_vocab_size):\n",
        "    \"\"\"\n",
        "    Build and train a RNN model using word embedding on x and y\n",
        "    :param input_shape: Tuple of input shape\n",
        "    :param output_sequence_length: Length of output sequence\n",
        "    :param english_vocab_size: Number of unique English words in the dataset\n",
        "    :param french_vocab_size: Number of unique French words in the dataset\n",
        "    :return: Keras model built, but not trained\n",
        "    \"\"\"\n",
        "    input_seq = keras.Input(input_shape[1:])\n",
        "    if output_sequence_length>input_shape[1]:\n",
        "        expanded_seq = keras.backend.squeeze(\n",
        "            keras.layers.ZeroPadding1D((0, output_sequence_length-input_shape[1]))(\n",
        "                keras.layers.Reshape((input_shape[1], 1))(input_seq)\n",
        "            ),\n",
        "            axis = -1\n",
        "        )\n",
        "    else:\n",
        "        expanded_seq = input_seq\n",
        "    embedded_seq = keras.layers.TimeDistributed(keras.layers.BatchNormalization(axis=-1))(\n",
        "        keras.layers.Embedding(source_vocab_size, embeddings_units, input_length=output_sequence_length)(expanded_seq)\n",
        "    )\n",
        "    rnn = keras.layers.TimeDistributed(keras.layers.BatchNormalization(axis=-1))(\n",
        "        keras.layers.GRU(int(gru_units), return_sequences=True)(embedded_seq)\n",
        "    )\n",
        "    logits = keras.layers.TimeDistributed(keras.layers.BatchNormalization(axis=-1))(\n",
        "        keras.layers.TimeDistributed(keras.layers.Dense(4*gru_units, activation='elu'))(rnn)\n",
        "    )\n",
        "    probabilities = keras.layers.TimeDistributed(keras.layers.Dense(target_vocab_size, activation='softmax'))(logits)\n",
        "    \n",
        "    model = keras.Model(input_seq, probabilities)\n",
        "    \n",
        "    model.compile(loss=loss,\n",
        "                  optimizer=keras.optimizers.Adam(learning_rate, clipnorm=3.0),\n",
        "                  metrics=['accuracy'])\n",
        "    return model\n",
        "\n",
        "  \n",
        "# Train the neural network\n",
        "embed_rnn_model = embedded_gru_model(\n",
        "    dataset['x'].shape,\n",
        "    dataset['y'].shape[1],\n",
        "    dataset['x'].max()+1,\n",
        "    dataset['y'].max()+1)\n",
        "\n",
        "\n",
        "\n",
        "print(\"Model summary:\")\n",
        "embed_rnn_model.summary()"
      ],
      "execution_count": 7,
      "outputs": [
        {
          "output_type": "stream",
          "text": [
            "Model summary:\n",
            "Model: \"model\"\n",
            "_________________________________________________________________\n",
            "Layer (type)                 Output Shape              Param #   \n",
            "=================================================================\n",
            "input_1 (InputLayer)         [(None, 136)]             0         \n",
            "_________________________________________________________________\n",
            "embedding (Embedding)        (None, 136, 32)           112000    \n",
            "_________________________________________________________________\n",
            "time_distributed (TimeDistri (None, 136, 32)           128       \n",
            "_________________________________________________________________\n",
            "unified_gru (UnifiedGRU)     (None, 136, 256)          222720    \n",
            "_________________________________________________________________\n",
            "time_distributed_1 (TimeDist (None, 136, 256)          1024      \n",
            "_________________________________________________________________\n",
            "time_distributed_3 (TimeDist (None, 136, 1024)         263168    \n",
            "_________________________________________________________________\n",
            "time_distributed_2 (TimeDist (None, 136, 1024)         4096      \n",
            "_________________________________________________________________\n",
            "time_distributed_4 (TimeDist (None, 136, 15000)        15375000  \n",
            "=================================================================\n",
            "Total params: 15,978,136\n",
            "Trainable params: 15,975,512\n",
            "Non-trainable params: 2,624\n",
            "_________________________________________________________________\n"
          ],
          "name": "stdout"
        }
      ]
    },
    {
      "cell_type": "code",
      "metadata": {
        "colab_type": "code",
        "id": "48rVQw-ch2ek",
        "outputId": "93f8e719-bdb7-40a7-be92-6480b85a6102",
        "colab": {
          "base_uri": "https://localhost:8080/",
          "height": 391
        }
      },
      "source": [
        "embed_rnn_model.fit(\n",
        "    dataset['x'], \n",
        "    dataset['y'][:,:, None], \n",
        "    batch_size=batch_size, \n",
        "    epochs=epochs, \n",
        "    validation_split=validation_split)"
      ],
      "execution_count": 8,
      "outputs": [
        {
          "output_type": "stream",
          "text": [
            "Train on 12278 samples, validate on 1365 samples\n",
            "Epoch 1/10\n",
            "12278/12278 [==============================] - 71s 6ms/sample - loss: 2.4776 - accuracy: 0.8513 - val_loss: 6.1976 - val_accuracy: 0.9035\n",
            "Epoch 2/10\n",
            "12278/12278 [==============================] - 70s 6ms/sample - loss: 1.1014 - accuracy: 0.8978 - val_loss: 8.3365 - val_accuracy: 0.8822\n",
            "Epoch 3/10\n",
            "12278/12278 [==============================] - 71s 6ms/sample - loss: 1.0293 - accuracy: 0.9011 - val_loss: 9.8168 - val_accuracy: 0.0000e+00\n",
            "Epoch 4/10\n",
            "12278/12278 [==============================] - 73s 6ms/sample - loss: 0.9467 - accuracy: 0.9029 - val_loss: 10.9026 - val_accuracy: 0.0024\n",
            "Epoch 5/10\n",
            "12278/12278 [==============================] - 73s 6ms/sample - loss: 0.8735 - accuracy: 0.9043 - val_loss: 11.6758 - val_accuracy: 0.0097\n",
            "Epoch 6/10\n",
            "12278/12278 [==============================] - 74s 6ms/sample - loss: 0.8147 - accuracy: 0.9061 - val_loss: 12.4340 - val_accuracy: 0.0099\n",
            "Epoch 7/10\n",
            "12278/12278 [==============================] - 75s 6ms/sample - loss: 0.7661 - accuracy: 0.9086 - val_loss: 13.0972 - val_accuracy: 0.0099\n",
            "Epoch 8/10\n",
            "12278/12278 [==============================] - 74s 6ms/sample - loss: 0.7264 - accuracy: 0.9115 - val_loss: 14.4066 - val_accuracy: 0.0099\n",
            "Epoch 9/10\n",
            "12278/12278 [==============================] - 74s 6ms/sample - loss: 0.6943 - accuracy: 0.9146 - val_loss: 14.5969 - val_accuracy: 0.0106\n",
            "Epoch 10/10\n",
            "12278/12278 [==============================] - 75s 6ms/sample - loss: 0.6633 - accuracy: 0.9179 - val_loss: 14.5637 - val_accuracy: 0.0108\n"
          ],
          "name": "stdout"
        },
        {
          "output_type": "execute_result",
          "data": {
            "text/plain": [
              "<tensorflow.python.keras.callbacks.History at 0x7f4958dc51d0>"
            ]
          },
          "metadata": {
            "tags": []
          },
          "execution_count": 8
        }
      ]
    },
    {
      "cell_type": "code",
      "metadata": {
        "colab_type": "code",
        "id": "u1Y2tPv5Rxev",
        "outputId": "9262c8d0-74d0-46f4-c389-893ab8969592",
        "colab": {
          "base_uri": "https://localhost:8080/",
          "height": 105
        }
      },
      "source": [
        "# Print prediction(s)\n",
        "sentense_id = 2\n",
        "x_sample = dataset['x'][sentense_id]\n",
        "y_sample = dataset['y'][sentense_id]\n",
        "print(\"Source('en') example:\", id_to_text( x_sample, dataset['x_tk'] ))\n",
        "print(\"Source('ru') example:\", id_to_text( y_sample, dataset['y_tk'] ))\n",
        "prediction = embed_rnn_model.predict(x_sample[None, :], verbose=1).squeeze()\n",
        "print(\"Translation(en_ru) example:\", id_to_text( logits_to_id(prediction), dataset['y_tk'] ))"
      ],
      "execution_count": 9,
      "outputs": [
        {
          "output_type": "stream",
          "text": [
            "Source('en') example: about us news [rare] contacts\n",
            "Source('ru') example: o нас новости референции контакт\n",
            "1/1 [==============================] - 0s 88ms/sample\n",
            "Translation(en_ru) example: [rare] [rare] новости [rare] [rare] [rare] [rare] [rare] [rare] [rare] [rare] [rare] [rare] [rare] [rare] [rare] [rare] [rare] [rare] [rare] [rare] [rare] [rare] [rare] [rare] [rare] [rare] [rare] [rare] [rare] [rare] [rare] [rare] [rare] [rare] [rare] [rare] [rare] [rare] [rare] [rare] [rare] [rare] [rare] [rare] [rare] [rare] [rare] [rare] [rare] [rare] [rare] [rare] [rare] [rare] [rare] [rare] [rare] [rare] [rare] [rare] [rare] [rare] [rare] [rare] [rare] [rare] [rare] [rare] [rare] [rare] [rare] [rare] [rare] [rare] [rare] [rare] [rare] [rare] [rare] [rare] [rare] [rare] [rare] [rare] [rare] [rare] [rare] [rare] [rare] [rare] [rare] [rare] [rare] [rare] [rare] [rare] [rare] [rare] [rare] [rare] [rare] [rare] [rare] [rare] [rare] [rare] [rare] [rare] [rare] [rare] [rare] [rare] [rare] [rare] [rare] [rare] [rare] [rare] [rare] [rare] [rare] [rare] [rare] [rare] [rare] [rare] [rare] [rare] [rare] [rare] [rare] [rare] [rare] [rare] [rare]\n"
          ],
          "name": "stdout"
        }
      ]
    },
    {
      "cell_type": "markdown",
      "metadata": {
        "colab_type": "text",
        "id": "ORh1vXotA9t8"
      },
      "source": [
        "#### Model 2 - BiDirectional GRU"
      ]
    },
    {
      "cell_type": "code",
      "metadata": {
        "colab_type": "code",
        "id": "ZTraW66N41zP",
        "outputId": "257ccd26-5e5d-4078-e398-ed89dd41dd90",
        "colab": {
          "base_uri": "https://localhost:8080/",
          "height": 442
        }
      },
      "source": [
        "def bd_gru_model(input_shape, output_sequence_length, source_vocab_size, target_vocab_size):\n",
        "    \"\"\"\n",
        "    Build and train a RNN model using word embedding on x and y\n",
        "    :param input_shape: Tuple of input shape\n",
        "    :param output_sequence_length: Length of output sequence\n",
        "    :param english_vocab_size: Number of unique English words in the dataset\n",
        "    :param french_vocab_size: Number of unique French words in the dataset\n",
        "    :return: Keras model built, but not trained\n",
        "    \"\"\"\n",
        "    input_seq = keras.Input(input_shape[1:])\n",
        "    if output_sequence_length>input_shape[1]:\n",
        "        expanded_seq = keras.backend.squeeze(\n",
        "            keras.layers.ZeroPadding1D((0, output_sequence_length-input_shape[1]))(\n",
        "                keras.layers.Reshape((input_shape[1], 1))(input_seq)\n",
        "            ),\n",
        "            axis = -1\n",
        "        )\n",
        "    else:\n",
        "        expanded_seq = input_seq\n",
        "    embedded_seq = keras.layers.TimeDistributed(keras.layers.BatchNormalization(axis=-1))(\n",
        "        keras.layers.Embedding(source_vocab_size, embeddings_units, input_length=output_sequence_length)(expanded_seq)\n",
        "    )\n",
        "    rnn = keras.layers.TimeDistributed(keras.layers.BatchNormalization(axis=-1))(\n",
        "        keras.layers.Bidirectional(keras.layers.GRU(int(gru_units/2), return_sequences=True))(embedded_seq)\n",
        "    )\n",
        "    logits = keras.layers.TimeDistributed(keras.layers.BatchNormalization(axis=-1))(\n",
        "        keras.layers.TimeDistributed(keras.layers.Dense(4*gru_units, activation='elu'))(rnn)\n",
        "    )\n",
        "    probabilities = keras.layers.TimeDistributed(keras.layers.Dense(target_vocab_size, activation='softmax'))(logits)\n",
        "    \n",
        "    model = keras.Model(input_seq, probabilities)\n",
        "    \n",
        "    model.compile(loss=loss,\n",
        "                  optimizer=keras.optimizers.Adam(learning_rate, clipnorm=3.0),\n",
        "                  metrics=['accuracy'])\n",
        "    return model\n",
        "\n",
        "  \n",
        "# Train the neural network\n",
        "bd_rnn_model = embedded_gru_model(\n",
        "    dataset['x'].shape,\n",
        "    dataset['y'].shape[1],\n",
        "    dataset['x'].max()+1,\n",
        "    dataset['y'].max()+1)\n",
        "\n",
        "\n",
        "\n",
        "print(\"Model summary:\")\n",
        "bd_rnn_model.summary()"
      ],
      "execution_count": 10,
      "outputs": [
        {
          "output_type": "stream",
          "text": [
            "Model summary:\n",
            "Model: \"model_1\"\n",
            "_________________________________________________________________\n",
            "Layer (type)                 Output Shape              Param #   \n",
            "=================================================================\n",
            "input_2 (InputLayer)         [(None, 136)]             0         \n",
            "_________________________________________________________________\n",
            "embedding_1 (Embedding)      (None, 136, 32)           112000    \n",
            "_________________________________________________________________\n",
            "time_distributed_5 (TimeDist (None, 136, 32)           128       \n",
            "_________________________________________________________________\n",
            "unified_gru_1 (UnifiedGRU)   (None, 136, 256)          222720    \n",
            "_________________________________________________________________\n",
            "time_distributed_6 (TimeDist (None, 136, 256)          1024      \n",
            "_________________________________________________________________\n",
            "time_distributed_8 (TimeDist (None, 136, 1024)         263168    \n",
            "_________________________________________________________________\n",
            "time_distributed_7 (TimeDist (None, 136, 1024)         4096      \n",
            "_________________________________________________________________\n",
            "time_distributed_9 (TimeDist (None, 136, 15000)        15375000  \n",
            "=================================================================\n",
            "Total params: 15,978,136\n",
            "Trainable params: 15,975,512\n",
            "Non-trainable params: 2,624\n",
            "_________________________________________________________________\n"
          ],
          "name": "stdout"
        }
      ]
    },
    {
      "cell_type": "code",
      "metadata": {
        "colab_type": "code",
        "id": "hFKX2UJHBmvh",
        "outputId": "dcfa501b-794d-46f7-f0e7-93da7b69cf00",
        "colab": {
          "base_uri": "https://localhost:8080/",
          "height": 391
        }
      },
      "source": [
        "bd_rnn_model.fit(\n",
        "    dataset['x'], \n",
        "    dataset['y'][:,:, None], \n",
        "    batch_size=batch_size, \n",
        "    epochs=epochs, \n",
        "    validation_split=validation_split\n",
        ")"
      ],
      "execution_count": 11,
      "outputs": [
        {
          "output_type": "stream",
          "text": [
            "Train on 12278 samples, validate on 1365 samples\n",
            "Epoch 1/10\n",
            "12278/12278 [==============================] - 74s 6ms/sample - loss: 2.5639 - accuracy: 0.8506 - val_loss: 6.5332 - val_accuracy: 0.9035\n",
            "Epoch 2/10\n",
            "12278/12278 [==============================] - 74s 6ms/sample - loss: 1.1054 - accuracy: 0.8979 - val_loss: 8.3832 - val_accuracy: 0.8822\n",
            "Epoch 3/10\n",
            "12278/12278 [==============================] - 74s 6ms/sample - loss: 1.0327 - accuracy: 0.9011 - val_loss: 9.6480 - val_accuracy: 0.0000e+00\n",
            "Epoch 4/10\n",
            "12278/12278 [==============================] - 74s 6ms/sample - loss: 0.9480 - accuracy: 0.9028 - val_loss: 10.5732 - val_accuracy: 0.0068\n",
            "Epoch 5/10\n",
            "12278/12278 [==============================] - 74s 6ms/sample - loss: 0.8720 - accuracy: 0.9042 - val_loss: 11.5156 - val_accuracy: 0.0099\n",
            "Epoch 6/10\n",
            "12278/12278 [==============================] - 74s 6ms/sample - loss: 0.8162 - accuracy: 0.9058 - val_loss: 12.4469 - val_accuracy: 0.0099\n",
            "Epoch 7/10\n",
            "12278/12278 [==============================] - 74s 6ms/sample - loss: 0.7680 - accuracy: 0.9083 - val_loss: 13.0578 - val_accuracy: 0.0099\n",
            "Epoch 8/10\n",
            "12278/12278 [==============================] - 74s 6ms/sample - loss: 0.7281 - accuracy: 0.9114 - val_loss: 13.3479 - val_accuracy: 0.0099\n",
            "Epoch 9/10\n",
            "12278/12278 [==============================] - 75s 6ms/sample - loss: 0.6968 - accuracy: 0.9143 - val_loss: 13.6547 - val_accuracy: 0.0106\n",
            "Epoch 10/10\n",
            "12278/12278 [==============================] - 74s 6ms/sample - loss: 0.6679 - accuracy: 0.9175 - val_loss: 13.4925 - val_accuracy: 0.0106\n"
          ],
          "name": "stdout"
        },
        {
          "output_type": "execute_result",
          "data": {
            "text/plain": [
              "<tensorflow.python.keras.callbacks.History at 0x7f48a739ac50>"
            ]
          },
          "metadata": {
            "tags": []
          },
          "execution_count": 11
        }
      ]
    },
    {
      "cell_type": "code",
      "metadata": {
        "colab_type": "code",
        "id": "7OZpP5XBB6z4",
        "outputId": "bebdb551-6278-47c7-9eff-facd190e4ac8",
        "colab": {
          "base_uri": "https://localhost:8080/",
          "height": 105
        }
      },
      "source": [
        "# Print prediction(s)\n",
        "sentense_id = 2\n",
        "x_sample = dataset['x'][sentense_id]\n",
        "y_sample = dataset['y'][sentense_id]\n",
        "print(\"Source('en') example:\", id_to_text( x_sample, dataset['x_tk'] ))\n",
        "print(\"Source('ru') example:\", id_to_text( y_sample, dataset['y_tk'] ))\n",
        "prediction = bd_rnn_model.predict(x_sample[None, :], verbose=1).squeeze()\n",
        "print(\"Translation(en_ru) example:\", id_to_text( logits_to_id(prediction), dataset['y_tk'] ))"
      ],
      "execution_count": 12,
      "outputs": [
        {
          "output_type": "stream",
          "text": [
            "Source('en') example: about us news [rare] contacts\n",
            "Source('ru') example: o нас новости референции контакт\n",
            "1/1 [==============================] - 0s 84ms/sample\n",
            "Translation(en_ru) example: [rare] [rare] новости [rare] новости [rare] [rare] [rare] [rare] [rare] [rare] [rare] [rare] [rare] [rare] [rare] [rare] [rare] [rare] [rare] [rare] [rare] [rare] [rare] [rare] [rare] [rare] [rare] [rare] [rare] [rare] [rare] [rare] [rare] [rare] [rare] [rare] [rare] [rare] [rare] [rare] [rare] [rare] [rare] [rare] [rare] [rare] [rare] [rare] [rare] [rare] [rare] [rare] [rare] [rare] [rare] [rare] [rare] [rare] [rare] [rare] [rare] [rare] [rare] [rare] [rare] [rare] [rare] [rare] [rare] [rare] [rare] [rare] [rare] [rare] [rare] [rare] [rare] [rare] [rare] [rare] [rare] [rare] [rare] [rare] [rare] [rare] [rare] [rare] [rare] [rare] [rare] [rare] [rare] [rare] [rare] [rare] [rare] [rare] [rare] [rare] [rare] [rare] [rare] [rare] [rare] [rare] [rare] [rare] [rare] [rare] [rare] [rare] [rare] [rare] [rare] [rare] [rare] [rare] [rare] [rare] [rare] [rare] [rare] [rare] [rare] [rare] [rare] [rare] [rare] [rare] [rare] [rare] [rare] [rare] [rare]\n"
          ],
          "name": "stdout"
        }
      ]
    }
  ]
}