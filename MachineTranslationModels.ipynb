{
 "cells": [
  {
   "cell_type": "markdown",
   "metadata": {
    "colab_type": "text",
    "id": "view-in-github"
   },
   "source": [
    "<a href=\"https://colab.research.google.com/github/ap-nlp-research/language_translation_en_ru_tf2/blob/master/MachineTranslationModels.ipynb\" target=\"_parent\"><img src=\"https://colab.research.google.com/assets/colab-badge.svg\" alt=\"Open In Colab\"/></a>"
   ]
  },
  {
   "cell_type": "markdown",
   "metadata": {
    "colab_type": "text",
    "id": "17OD4xTkRxeL"
   },
   "source": [
    "# Machine Translation Project\n",
    "\n",
    "\n",
    "The goal of the project is to compare the strength of the following recurrent models:\n",
    "\n",
    "1. Embedded GRU\n",
    "2. Embedded Bidirectional GRU\n",
    "3. Embedded GRU encoder-decoder model\n",
    "4. Embedded GRU encoder-decoder model with Multiplicative Attention\n",
    "\n",
    "The models implemented in Tensorflow 2.0 with Keras as a high-level API. Models are trained and analyzed based on EN-RU [wmt19_translate dataset](https://www.tensorflow.org/datasets/datasets#wmt19_translate) ([ACL 2019 FOURTH CONFERENCE ON MACHINE TRANSLATION (WMT19)](http://www.statmt.org/wmt19/translation-task.html))."
   ]
  },
  {
   "cell_type": "code",
   "execution_count": 1,
   "metadata": {
    "colab": {
     "base_uri": "https://localhost:8080/",
     "height": 632
    },
    "colab_type": "code",
    "id": "j3gfCUyDRxeN",
    "outputId": "dbe512f1-751b-4c60-f0f8-a2d0cd7cb48a"
   },
   "outputs": [
    {
     "name": "stdout",
     "output_type": "stream",
     "text": [
      "Collecting tensorflow-gpu==2.0.0-alpha0\n",
      "\u001b[?25l  Downloading https://files.pythonhosted.org/packages/1a/66/32cffad095253219d53f6b6c2a436637bbe45ac4e7be0244557210dc3918/tensorflow_gpu-2.0.0a0-cp36-cp36m-manylinux1_x86_64.whl (332.1MB)\n",
      "\u001b[K     |████████████████████████████████| 332.1MB 62kB/s \n",
      "\u001b[?25hRequirement already satisfied: grpcio>=1.8.6 in /usr/local/lib/python3.6/dist-packages (from tensorflow-gpu==2.0.0-alpha0) (1.15.0)\n",
      "Collecting tb-nightly<1.14.0a20190302,>=1.14.0a20190301 (from tensorflow-gpu==2.0.0-alpha0)\n",
      "\u001b[?25l  Downloading https://files.pythonhosted.org/packages/a9/51/aa1d756644bf4624c03844115e4ac4058eff77acd786b26315f051a4b195/tb_nightly-1.14.0a20190301-py3-none-any.whl (3.0MB)\n",
      "\u001b[K     |████████████████████████████████| 3.0MB 35.7MB/s \n",
      "\u001b[?25hRequirement already satisfied: wheel>=0.26 in /usr/local/lib/python3.6/dist-packages (from tensorflow-gpu==2.0.0-alpha0) (0.33.1)\n",
      "Collecting tf-estimator-nightly<1.14.0.dev2019030116,>=1.14.0.dev2019030115 (from tensorflow-gpu==2.0.0-alpha0)\n",
      "\u001b[?25l  Downloading https://files.pythonhosted.org/packages/13/82/f16063b4eed210dc2ab057930ac1da4fbe1e91b7b051a6c8370b401e6ae7/tf_estimator_nightly-1.14.0.dev2019030115-py2.py3-none-any.whl (411kB)\n",
      "\u001b[K     |████████████████████████████████| 419kB 40.1MB/s \n",
      "\u001b[?25hCollecting google-pasta>=0.1.2 (from tensorflow-gpu==2.0.0-alpha0)\n",
      "\u001b[?25l  Downloading https://files.pythonhosted.org/packages/f9/68/a14620bfb042691f532dcde8576ff82ee82e4c003cdc0a3dbee5f289cee6/google_pasta-0.1.6-py3-none-any.whl (51kB)\n",
      "\u001b[K     |████████████████████████████████| 61kB 28.2MB/s \n",
      "\u001b[?25hRequirement already satisfied: astor>=0.6.0 in /usr/local/lib/python3.6/dist-packages (from tensorflow-gpu==2.0.0-alpha0) (0.7.1)\n",
      "Requirement already satisfied: numpy<2.0,>=1.14.5 in /usr/local/lib/python3.6/dist-packages (from tensorflow-gpu==2.0.0-alpha0) (1.16.3)\n",
      "Requirement already satisfied: termcolor>=1.1.0 in /usr/local/lib/python3.6/dist-packages (from tensorflow-gpu==2.0.0-alpha0) (1.1.0)\n",
      "Requirement already satisfied: gast>=0.2.0 in /usr/local/lib/python3.6/dist-packages (from tensorflow-gpu==2.0.0-alpha0) (0.2.2)\n",
      "Requirement already satisfied: protobuf>=3.6.1 in /usr/local/lib/python3.6/dist-packages (from tensorflow-gpu==2.0.0-alpha0) (3.7.1)\n",
      "Requirement already satisfied: keras-applications>=1.0.6 in /usr/local/lib/python3.6/dist-packages (from tensorflow-gpu==2.0.0-alpha0) (1.0.7)\n",
      "Requirement already satisfied: six>=1.10.0 in /usr/local/lib/python3.6/dist-packages (from tensorflow-gpu==2.0.0-alpha0) (1.12.0)\n",
      "Requirement already satisfied: absl-py>=0.7.0 in /usr/local/lib/python3.6/dist-packages (from tensorflow-gpu==2.0.0-alpha0) (0.7.1)\n",
      "Requirement already satisfied: keras-preprocessing>=1.0.5 in /usr/local/lib/python3.6/dist-packages (from tensorflow-gpu==2.0.0-alpha0) (1.0.9)\n",
      "Requirement already satisfied: markdown>=2.6.8 in /usr/local/lib/python3.6/dist-packages (from tb-nightly<1.14.0a20190302,>=1.14.0a20190301->tensorflow-gpu==2.0.0-alpha0) (3.1)\n",
      "Requirement already satisfied: werkzeug>=0.11.15 in /usr/local/lib/python3.6/dist-packages (from tb-nightly<1.14.0a20190302,>=1.14.0a20190301->tensorflow-gpu==2.0.0-alpha0) (0.15.2)\n",
      "Requirement already satisfied: setuptools in /usr/local/lib/python3.6/dist-packages (from protobuf>=3.6.1->tensorflow-gpu==2.0.0-alpha0) (41.0.1)\n",
      "Requirement already satisfied: h5py in /usr/local/lib/python3.6/dist-packages (from keras-applications>=1.0.6->tensorflow-gpu==2.0.0-alpha0) (2.8.0)\n",
      "Installing collected packages: tb-nightly, tf-estimator-nightly, google-pasta, tensorflow-gpu\n",
      "Successfully installed google-pasta-0.1.6 tb-nightly-1.14.0a20190301 tensorflow-gpu-2.0.0a0 tf-estimator-nightly-1.14.0.dev2019030115\n",
      "Cloning into 'translation_en_ru'...\n",
      "remote: Enumerating objects: 72, done.\u001b[K\n",
      "remote: Counting objects: 100% (72/72), done.\u001b[K\n",
      "remote: Compressing objects: 100% (57/57), done.\u001b[K\n",
      "remote: Total 72 (delta 24), reused 42 (delta 13), pack-reused 0\u001b[K\n",
      "Unpacking objects: 100% (72/72), done.\n"
     ]
    }
   ],
   "source": [
    "!pip install tensorflow-gpu==2.0.0-alpha0\n",
    "!git clone https://github.com/ap-nlp-research/language_translation_en_ru_tf2.git translation_en_ru"
   ]
  },
  {
   "cell_type": "code",
   "execution_count": 0,
   "metadata": {
    "colab": {},
    "colab_type": "code",
    "id": "ecoqx4K1RxeT"
   },
   "outputs": [],
   "source": [
    "import os\n",
    "import pickle as pk\n",
    "import subprocess\n",
    "import re\n",
    "import numpy as np\n",
    "from functools import partial\n",
    "import tensorflow as tf\n",
    "from tensorflow import keras"
   ]
  },
  {
   "cell_type": "markdown",
   "metadata": {
    "colab_type": "text",
    "id": "myYPpU6bRxeX"
   },
   "source": [
    "## Data ETL\n",
    "\n",
    "The data load, extraction, and transformation was done beforehand with [create_dataset_en_ru.py](./create_dataset_en_ru.py) script. This script stores a dictionary containing source data under 'x' label. Target data is stored under 'y' label. In addition to the source and target data, the dictionary contains x and y tockenizers (stored as 'x_tk' and 'y_tk'):"
   ]
  },
  {
   "cell_type": "markdown",
   "metadata": {
    "colab_type": "text",
    "id": "s6-C7QMFRxea"
   },
   "source": [
    "dataset: dict\n",
    "\n",
    "{\n",
    "    'x': np.ndarray,\n",
    "    'y': np.ndarray,\n",
    "    'x_tk': keras.preprocessing.text.Tokenizer,\n",
    "    'y_tk': keras.preprocessing.text.Tokenizer\n",
    "}"
   ]
  },
  {
   "cell_type": "code",
   "execution_count": 0,
   "metadata": {
    "colab": {},
    "colab_type": "code",
    "id": "hc1RXHOURxeb"
   },
   "outputs": [],
   "source": [
    "with open(\"./translation_en_ru/data/wlm_en_ru.pkl\", 'rb') as file:\n",
    "    dataset = pk.load(file)"
   ]
  },
  {
   "cell_type": "markdown",
   "metadata": {
    "colab_type": "text",
    "id": "tj5lJy93Rxeg"
   },
   "source": [
    "## Utility Functions\n",
    "\n",
    "In addition to the data ETL, the code below provides two additional functions for converting logits into word indicies and converting word indicies into text."
   ]
  },
  {
   "cell_type": "code",
   "execution_count": 0,
   "metadata": {
    "colab": {},
    "colab_type": "code",
    "id": "tjrUMAOPRxeh"
   },
   "outputs": [],
   "source": [
    "def logits_to_id(logits):\n",
    "    \"\"\"\n",
    "    Turns logits into word ids\n",
    "    :param logits: Logits from a neural network\n",
    "    \"\"\"\n",
    "    return np.argmax(logits, 1)\n",
    "\n",
    "def id_to_text(idx, tokenizer):\n",
    "    \"\"\"\n",
    "    Turns id into text using the tokenizer\n",
    "    :param idx: word id\n",
    "    :param tokenizer: Keras Tokenizer fit on the labels\n",
    "    :return: String that represents the text of the logits\n",
    "    \"\"\"\n",
    "    index_to_words = {id: word for word, id in tokenizer.word_index.items()}\n",
    "    index_to_words[0] = '<PAD>'\n",
    "\n",
    "    return ' '.join([index_to_words[prediction] for prediction in idx]).replace(\" <PAD>\", \"\")"
   ]
  },
  {
   "cell_type": "code",
   "execution_count": 5,
   "metadata": {
    "colab": {
     "base_uri": "https://localhost:8080/",
     "height": 224
    },
    "colab_type": "code",
    "id": "VE45jscXRxek",
    "outputId": "f5347eb7-454e-4164-dcde-d0a2aa725e79"
   },
   "outputs": [
    {
     "name": "stdout",
     "output_type": "stream",
     "text": [
      "Here is an example for a sample number 1:\n",
      "Source('en') example: the company has been registered with the municipal court in prague in section b file 1 4 8 5 7\n",
      "Target('ru') example: фирма зарегистрирована в городском суде в г праге раздел б [rare] 1 4 8 5 7\n",
      " \n",
      "A sample number 2:\n",
      "Source('en') example: six years ago i had a surgery and l 4 l 5 [rare] were [rare] now l 5 s 1 [rare] [rare] and i had a second surgery that went well\n",
      "Target('ru') example: шесть лет назад мне сделали операцию и на дисках l 4 l 5 сейчас [rare] [rare] диски l 5 s 1 и было необходимо второе хирургическое вмешательство которое произошло вчера и прошло хорошо\n",
      "source vocabulary size: 3499\n",
      "target vocabulary size: 14999\n",
      "Source shape: (14751, 148)\n",
      "Target shape: (14751, 148)\n"
     ]
    }
   ],
   "source": [
    "print(\"Here is an example for a sample number 1:\")\n",
    "print(\"Source('en') example:\", id_to_text(dataset['x'][0], dataset['x_tk']))\n",
    "print(\"Target('ru') example:\", id_to_text(dataset['y'][0], dataset['y_tk']))\n",
    "print(\" \")\n",
    "print(\"A sample number 2:\")\n",
    "print(\"Source('en') example:\", id_to_text(dataset['x'][-10], dataset['x_tk']))\n",
    "print(\"Target('ru') example:\", id_to_text(dataset['y'][-10], dataset['y_tk']))\n",
    "print(\"source vocabulary size:\", dataset['x'].max())\n",
    "print(\"target vocabulary size:\", dataset['y'].max())\n",
    "print(\"Source shape:\", dataset['x'].shape)\n",
    "print(\"Target shape:\", dataset['y'].shape)"
   ]
  },
  {
   "cell_type": "markdown",
   "metadata": {
    "colab_type": "text",
    "id": "g2b8qgl5Rxen"
   },
   "source": [
    "## Models\n",
    "\n",
    "The models are implemented with a similar set of parameters. The main idea is to keep models as small and simple as possible to quickly train them and validate the difference the primarely derived from model architectures. The summary of main hyper parameters presented below:\n",
    "\n",
    "* Mapping:\n",
    "    - Embeddings - word indices will be mapped into a 16-dimentional space\n",
    "    - Dense mapping - recurrence outputs mapped into the target-language space, represented with OHE, via Dense mapping\n",
    "* Layers:\n",
    "    - GRU - number of units 256\n",
    "    - Bidirectional GRU - number of untis set up to 128 in order to keep the total number of units the same (256)\n",
    "    - Batch Normalization - To speed up the training batch normalization is inserted after embeddings and before dense mapping\n",
    "* Optimization:\n",
    "    - Adam - all models trained with Adam optimizer and the same learning rate (1e-3)\n",
    "* Loss function:\n",
    "    - sparse_categorical_crossentropy_from_logits - keras.losses.sparse_categorical_crossentropy"
   ]
  },
  {
   "cell_type": "code",
   "execution_count": 0,
   "metadata": {
    "colab": {},
    "colab_type": "code",
    "id": "6ZKvPDCFRxen"
   },
   "outputs": [],
   "source": [
    "learning_rate = 1e-3\n",
    "embeddings_units = 16\n",
    "gru_units = 256\n",
    "epochs = 10\n",
    "validation_split = 0.1\n",
    "batch_size = 128\n",
    "loss = keras.losses.sparse_categorical_crossentropy"
   ]
  },
  {
   "cell_type": "markdown",
   "metadata": {
    "colab_type": "text",
    "id": "1d7e-xH1Rxeq"
   },
   "source": [
    "**Model list:**\n",
    "\n",
    "1. Embedded GRU - 2 stacked GRU cells 256 units each\n",
    "2. Embedded Bidirectional GRU - 2 stacked bi-directional GRU cells 256 units each\n",
    "3. Embedded GRU encoder-decoder model - 1 GRU cell as an encoder and 1 GRU cell as a decoder (256 units each)\n",
    "4. Embedded GRU encoder-decoder model with Multiplicative Attention\n",
    "\n",
    "#### Model 1 - Embedded GRU"
   ]
  },
  {
   "cell_type": "code",
   "execution_count": 7,
   "metadata": {
    "colab": {
     "base_uri": "https://localhost:8080/",
     "height": 442
    },
    "colab_type": "code",
    "id": "l4QhEHNaRxer",
    "outputId": "b0a032f3-9225-4d70-fabf-e370e62dc9c9"
   },
   "outputs": [
    {
     "name": "stdout",
     "output_type": "stream",
     "text": [
      "Model summary:\n",
      "Model: \"model\"\n",
      "_________________________________________________________________\n",
      "Layer (type)                 Output Shape              Param #   \n",
      "=================================================================\n",
      "input_1 (InputLayer)         [(None, 148)]             0         \n",
      "_________________________________________________________________\n",
      "embedding (Embedding)        (None, 148, 16)           56000     \n",
      "_________________________________________________________________\n",
      "time_distributed (TimeDistri (None, 148, 16)           64        \n",
      "_________________________________________________________________\n",
      "unified_gru (UnifiedGRU)     (None, 148, 256)          210432    \n",
      "_________________________________________________________________\n",
      "time_distributed_1 (TimeDist (None, 148, 256)          1024      \n",
      "_________________________________________________________________\n",
      "time_distributed_3 (TimeDist (None, 148, 1024)         263168    \n",
      "_________________________________________________________________\n",
      "time_distributed_2 (TimeDist (None, 148, 1024)         4096      \n",
      "_________________________________________________________________\n",
      "time_distributed_4 (TimeDist (None, 148, 15000)        15375000  \n",
      "=================================================================\n",
      "Total params: 15,909,784\n",
      "Trainable params: 15,907,192\n",
      "Non-trainable params: 2,592\n",
      "_________________________________________________________________\n"
     ]
    }
   ],
   "source": [
    "def embedded_gru_model(input_shape, output_sequence_length, source_vocab_size, target_vocab_size):\n",
    "    \"\"\"\n",
    "    Build and train a RNN model using word embedding on x and y\n",
    "    :param input_shape: Tuple of input shape\n",
    "    :param output_sequence_length: Length of output sequence\n",
    "    :param english_vocab_size: Number of unique English words in the dataset\n",
    "    :param french_vocab_size: Number of unique French words in the dataset\n",
    "    :return: Keras model built, but not trained\n",
    "    \"\"\"\n",
    "    input_seq = keras.Input(input_shape[1:])\n",
    "    if output_sequence_length>input_shape[1]:\n",
    "        expanded_seq = keras.backend.squeeze(\n",
    "            keras.layers.ZeroPadding1D((0, output_sequence_length-input_shape[1]))(\n",
    "                keras.layers.Reshape((input_shape[1], 1))(input_seq)\n",
    "            ),\n",
    "            axis = -1\n",
    "        )\n",
    "    else:\n",
    "        expanded_seq = input_seq\n",
    "        \n",
    "        \n",
    "    embedded_seq = keras.layers.TimeDistributed(keras.layers.BatchNormalization(axis=-1))(\n",
    "        keras.layers.Embedding(source_vocab_size, embeddings_units, input_length=output_sequence_length)(expanded_seq)\n",
    "    )\n",
    "    rnn = keras.layers.TimeDistributed(keras.layers.BatchNormalization(axis=-1))(\n",
    "        keras.layers.RNN([\n",
    "            keras.layers.GRUCell(gru_units), keras.layers.GRUCell(gru_units)\n",
    "        ], return_sequences=True)(embedded_seq)\n",
    "    )\n",
    "    logits = keras.layers.TimeDistributed(keras.layers.BatchNormalization(axis=-1))(\n",
    "        keras.layers.TimeDistributed(keras.layers.Dense(4*gru_units, activation='elu'))(rnn)\n",
    "    )\n",
    "    probabilities = keras.layers.TimeDistributed(keras.layers.Dense(target_vocab_size, activation='softmax'))(logits)\n",
    "    \n",
    "    model = keras.Model(input_seq, probabilities)\n",
    "    \n",
    "    model.compile(loss=loss,\n",
    "                  optimizer=keras.optimizers.Adam(learning_rate, clipnorm=3.0),\n",
    "                  metrics=['accuracy'])\n",
    "    return model\n",
    "\n",
    "  \n",
    "# Train the neural network\n",
    "keras.backend.clear_session()\n",
    "embed_rnn_model = embedded_gru_model(\n",
    "    dataset['x'].shape,\n",
    "    dataset['y'].shape[1],\n",
    "    dataset['x'].max()+1,\n",
    "    dataset['y'].max()+1)\n",
    "\n",
    "\n",
    "\n",
    "print(\"Model summary:\")\n",
    "embed_rnn_model.summary()"
   ]
  },
  {
   "cell_type": "code",
   "execution_count": 8,
   "metadata": {
    "colab": {
     "base_uri": "https://localhost:8080/",
     "height": 561
    },
    "colab_type": "code",
    "id": "48rVQw-ch2ek",
    "outputId": "ff33710b-f36e-4f51-d15d-b374ff1b1118"
   },
   "outputs": [
    {
     "name": "stdout",
     "output_type": "stream",
     "text": [
      "Train on 13275 samples, validate on 1476 samples\n",
      "Epoch 1/15\n",
      "13275/13275 [==============================] - 91s 7ms/sample - loss: 2.4768 - accuracy: 0.8408 - val_loss: 6.5620 - val_accuracy: 0.8864\n",
      "Epoch 2/15\n",
      "13275/13275 [==============================] - 87s 7ms/sample - loss: 1.3188 - accuracy: 0.8747 - val_loss: 8.1526 - val_accuracy: 0.8573\n",
      "Epoch 3/15\n",
      "13275/13275 [==============================] - 87s 7ms/sample - loss: 1.2474 - accuracy: 0.8762 - val_loss: 9.5901 - val_accuracy: 0.0026\n",
      "Epoch 4/15\n",
      "13275/13275 [==============================] - 88s 7ms/sample - loss: 1.1857 - accuracy: 0.8772 - val_loss: 10.9724 - val_accuracy: 0.0129\n",
      "Epoch 5/15\n",
      "13275/13275 [==============================] - 88s 7ms/sample - loss: 1.1321 - accuracy: 0.8781 - val_loss: 12.0923 - val_accuracy: 0.0130\n",
      "Epoch 6/15\n",
      "13275/13275 [==============================] - 88s 7ms/sample - loss: 1.0851 - accuracy: 0.8793 - val_loss: 13.8738 - val_accuracy: 0.0130\n",
      "Epoch 7/15\n",
      "13275/13275 [==============================] - 88s 7ms/sample - loss: 1.0449 - accuracy: 0.8805 - val_loss: 15.1996 - val_accuracy: 0.0130\n",
      "Epoch 8/15\n",
      "13275/13275 [==============================] - 88s 7ms/sample - loss: 1.0057 - accuracy: 0.8823 - val_loss: 15.1722 - val_accuracy: 0.0134\n",
      "Epoch 9/15\n",
      "13275/13275 [==============================] - 88s 7ms/sample - loss: 0.9675 - accuracy: 0.8844 - val_loss: 15.1407 - val_accuracy: 0.0134\n",
      "Epoch 10/15\n",
      "13275/13275 [==============================] - 88s 7ms/sample - loss: 0.9301 - accuracy: 0.8873 - val_loss: 14.4212 - val_accuracy: 0.0136\n",
      "Epoch 11/15\n",
      "13275/13275 [==============================] - 88s 7ms/sample - loss: 0.8917 - accuracy: 0.8909 - val_loss: 11.7420 - val_accuracy: 0.0141\n",
      "Epoch 12/15\n",
      "13275/13275 [==============================] - 88s 7ms/sample - loss: 0.8573 - accuracy: 0.8947 - val_loss: 8.3546 - val_accuracy: 0.0171\n",
      "Epoch 13/15\n",
      "13275/13275 [==============================] - 88s 7ms/sample - loss: 0.8262 - accuracy: 0.8986 - val_loss: 4.6171 - val_accuracy: 0.8324\n",
      "Epoch 14/15\n",
      "13275/13275 [==============================] - 88s 7ms/sample - loss: 0.7961 - accuracy: 0.9026 - val_loss: 1.6032 - val_accuracy: 0.8634\n",
      "Epoch 15/15\n",
      "13275/13275 [==============================] - 88s 7ms/sample - loss: 0.7703 - accuracy: 0.9061 - val_loss: 1.4772 - val_accuracy: 0.8628\n"
     ]
    },
    {
     "data": {
      "text/plain": [
       "<tensorflow.python.keras.callbacks.History at 0x7f152afa1b00>"
      ]
     },
     "execution_count": 8,
     "metadata": {
      "tags": []
     },
     "output_type": "execute_result"
    }
   ],
   "source": [
    "embed_rnn_model.fit(\n",
    "    dataset['x'], \n",
    "    dataset['y'][:,:, None], \n",
    "    batch_size=batch_size, \n",
    "    epochs=epochs, \n",
    "    validation_split=validation_split)"
   ]
  },
  {
   "cell_type": "code",
   "execution_count": 9,
   "metadata": {
    "colab": {
     "base_uri": "https://localhost:8080/",
     "height": 85
    },
    "colab_type": "code",
    "id": "u1Y2tPv5Rxev",
    "outputId": "3430aeb8-f987-4252-a4cb-40382fb10b9f"
   },
   "outputs": [
    {
     "name": "stdout",
     "output_type": "stream",
     "text": [
      "Source('en') example: our team consists of highly experienced professionals who have already successfully implemented several [rare]\n",
      "Source('ru') example: наша команда состоит из [rare] специалистов которые уже реализовали ряд успешных проектов\n",
      "1/1 [==============================] - 0s 91ms/sample\n",
      "Translation(en_ru) example: наша команда состоит из [rare] специалистов опыт [rare] реализовали успешных успешных проектов [rare] [rare]\n"
     ]
    }
   ],
   "source": [
    "# Print prediction(s)\n",
    "sentense_id = 2\n",
    "x_sample = dataset['x'][sentense_id]\n",
    "y_sample = dataset['y'][sentense_id]\n",
    "print(\"Source('en') example:\", id_to_text( x_sample, dataset['x_tk'] ))\n",
    "print(\"Source('ru') example:\", id_to_text( y_sample, dataset['y_tk'] ))\n",
    "prediction = embed_rnn_model.predict(x_sample[None, :], verbose=1).squeeze()\n",
    "print(\"Translation(en_ru) example:\", id_to_text( logits_to_id(prediction), dataset['y_tk'] ))"
   ]
  },
  {
   "cell_type": "markdown",
   "metadata": {
    "colab_type": "text",
    "id": "ORh1vXotA9t8"
   },
   "source": [
    "#### Model 2 - BiDirectional GRU"
   ]
  },
  {
   "cell_type": "code",
   "execution_count": 10,
   "metadata": {
    "colab": {
     "base_uri": "https://localhost:8080/",
     "height": 442
    },
    "colab_type": "code",
    "id": "ZTraW66N41zP",
    "outputId": "bf0f57bd-4511-4ce1-da67-d1e1fbcd3122"
   },
   "outputs": [
    {
     "name": "stdout",
     "output_type": "stream",
     "text": [
      "Model summary:\n",
      "Model: \"model_1\"\n",
      "_________________________________________________________________\n",
      "Layer (type)                 Output Shape              Param #   \n",
      "=================================================================\n",
      "input_2 (InputLayer)         [(None, 148)]             0         \n",
      "_________________________________________________________________\n",
      "embedding_1 (Embedding)      (None, 148, 16)           56000     \n",
      "_________________________________________________________________\n",
      "time_distributed_5 (TimeDist (None, 148, 16)           64        \n",
      "_________________________________________________________________\n",
      "unified_gru_1 (UnifiedGRU)   (None, 148, 256)          210432    \n",
      "_________________________________________________________________\n",
      "time_distributed_6 (TimeDist (None, 148, 256)          1024      \n",
      "_________________________________________________________________\n",
      "time_distributed_8 (TimeDist (None, 148, 1024)         263168    \n",
      "_________________________________________________________________\n",
      "time_distributed_7 (TimeDist (None, 148, 1024)         4096      \n",
      "_________________________________________________________________\n",
      "time_distributed_9 (TimeDist (None, 148, 15000)        15375000  \n",
      "=================================================================\n",
      "Total params: 15,909,784\n",
      "Trainable params: 15,907,192\n",
      "Non-trainable params: 2,592\n",
      "_________________________________________________________________\n"
     ]
    }
   ],
   "source": [
    "def bd_gru_model(input_shape, output_sequence_length, source_vocab_size, target_vocab_size):\n",
    "    \"\"\"\n",
    "    Build and train a RNN model using word embedding on x and y\n",
    "    :param input_shape: Tuple of input shape\n",
    "    :param output_sequence_length: Length of output sequence\n",
    "    :param english_vocab_size: Number of unique English words in the dataset\n",
    "    :param french_vocab_size: Number of unique French words in the dataset\n",
    "    :return: Keras model built, but not trained\n",
    "    \"\"\"\n",
    "    input_seq = keras.Input(input_shape[1:])\n",
    "    if output_sequence_length>input_shape[1]:\n",
    "        expanded_seq = keras.backend.squeeze(\n",
    "            keras.layers.ZeroPadding1D((0, output_sequence_length-input_shape[1]))(\n",
    "                keras.layers.Reshape((input_shape[1], 1))(input_seq)\n",
    "            ),\n",
    "            axis = -1\n",
    "        )\n",
    "    else:\n",
    "        expanded_seq = input_seq\n",
    "    embedded_seq = keras.layers.TimeDistributed(keras.layers.BatchNormalization(axis=-1))(\n",
    "        keras.layers.Embedding(source_vocab_size, embeddings_units, input_length=output_sequence_length)(expanded_seq)\n",
    "    )\n",
    "    rnn = keras.layers.TimeDistributed(keras.layers.BatchNormalization(axis=-1))(\n",
    "        rnn = keras.layers.TimeDistributed(keras.layers.BatchNormalization(axis=-1))(\n",
    "            keras.layers.RNN([\n",
    "                keras.layers.Bidirectional(keras.layers.GRUCell(int(gru_units/2)), \n",
    "                keras.layers.Bidirectional(keras.layers.GRUCell(int(gru_units/2)))\n",
    "            ], return_sequences=True)(embedded_seq)\n",
    "        )\n",
    "    )\n",
    "    logits = keras.layers.TimeDistributed(keras.layers.BatchNormalization(axis=-1))(\n",
    "        keras.layers.TimeDistributed(keras.layers.Dense(4*gru_units, activation='elu'))(rnn)\n",
    "    )\n",
    "    probabilities = keras.layers.TimeDistributed(keras.layers.Dense(target_vocab_size, activation='softmax'))(logits)\n",
    "    \n",
    "    model = keras.Model(input_seq, probabilities)\n",
    "    \n",
    "    model.compile(loss=loss,\n",
    "                  optimizer=keras.optimizers.Adam(learning_rate, clipnorm=3.0),\n",
    "                  metrics=['accuracy'])\n",
    "    return model\n",
    "\n",
    "  \n",
    "# Train the neural network\n",
    "keras.backend.clear_session()\n",
    "bd_rnn_model = embedded_gru_model(\n",
    "    dataset['x'].shape,\n",
    "    dataset['y'].shape[1],\n",
    "    dataset['x'].max()+1,\n",
    "    dataset['y'].max()+1)\n",
    "\n",
    "\n",
    "\n",
    "print(\"Model summary:\")\n",
    "bd_rnn_model.summary()"
   ]
  },
  {
   "cell_type": "code",
   "execution_count": 11,
   "metadata": {
    "colab": {
     "base_uri": "https://localhost:8080/",
     "height": 561
    },
    "colab_type": "code",
    "id": "hFKX2UJHBmvh",
    "outputId": "41e62e0d-c31f-4c5f-9618-0fe2f93f9036"
   },
   "outputs": [
    {
     "name": "stdout",
     "output_type": "stream",
     "text": [
      "Train on 13275 samples, validate on 1476 samples\n",
      "Epoch 1/15\n",
      "13275/13275 [==============================] - 88s 7ms/sample - loss: 2.4574 - accuracy: 0.8395 - val_loss: 7.4141 - val_accuracy: 0.8864\n",
      "Epoch 2/15\n",
      "13275/13275 [==============================] - 87s 7ms/sample - loss: 1.3347 - accuracy: 0.8744 - val_loss: 8.6278 - val_accuracy: 0.8510\n",
      "Epoch 3/15\n",
      "13275/13275 [==============================] - 88s 7ms/sample - loss: 1.2634 - accuracy: 0.8763 - val_loss: 9.9303 - val_accuracy: 0.0126\n",
      "Epoch 4/15\n",
      "13275/13275 [==============================] - 87s 7ms/sample - loss: 1.2048 - accuracy: 0.8773 - val_loss: 11.2681 - val_accuracy: 0.0130\n",
      "Epoch 5/15\n",
      "13275/13275 [==============================] - 88s 7ms/sample - loss: 1.1486 - accuracy: 0.8781 - val_loss: 12.6770 - val_accuracy: 0.0130\n",
      "Epoch 6/15\n",
      "13275/13275 [==============================] - 88s 7ms/sample - loss: 1.0983 - accuracy: 0.8791 - val_loss: 14.0189 - val_accuracy: 0.0130\n",
      "Epoch 7/15\n",
      "13275/13275 [==============================] - 88s 7ms/sample - loss: 1.0613 - accuracy: 0.8802 - val_loss: 14.6280 - val_accuracy: 0.0130\n",
      "Epoch 8/15\n",
      "13275/13275 [==============================] - 88s 7ms/sample - loss: 1.0187 - accuracy: 0.8818 - val_loss: 15.1613 - val_accuracy: 0.0130\n",
      "Epoch 9/15\n",
      "13275/13275 [==============================] - 88s 7ms/sample - loss: 0.9814 - accuracy: 0.8840 - val_loss: 14.7194 - val_accuracy: 0.0130\n",
      "Epoch 10/15\n",
      "13275/13275 [==============================] - 88s 7ms/sample - loss: 0.9434 - accuracy: 0.8864 - val_loss: 11.8685 - val_accuracy: 0.0131\n",
      "Epoch 11/15\n",
      "13275/13275 [==============================] - 89s 7ms/sample - loss: 0.9072 - accuracy: 0.8896 - val_loss: 10.0710 - val_accuracy: 0.0141\n",
      "Epoch 12/15\n",
      "13275/13275 [==============================] - 89s 7ms/sample - loss: 0.8700 - accuracy: 0.8933 - val_loss: 6.9105 - val_accuracy: 0.7993\n",
      "Epoch 13/15\n",
      "13275/13275 [==============================] - 88s 7ms/sample - loss: 0.8379 - accuracy: 0.8971 - val_loss: 3.3094 - val_accuracy: 0.8453\n",
      "Epoch 14/15\n",
      "13275/13275 [==============================] - 88s 7ms/sample - loss: 0.8078 - accuracy: 0.9009 - val_loss: 1.8135 - val_accuracy: 0.8642\n",
      "Epoch 15/15\n",
      "13275/13275 [==============================] - 88s 7ms/sample - loss: 0.7829 - accuracy: 0.9043 - val_loss: 1.4595 - val_accuracy: 0.8649\n"
     ]
    },
    {
     "data": {
      "text/plain": [
       "<tensorflow.python.keras.callbacks.History at 0x7f157e65ccc0>"
      ]
     },
     "execution_count": 11,
     "metadata": {
      "tags": []
     },
     "output_type": "execute_result"
    }
   ],
   "source": [
    "bd_rnn_model.fit(\n",
    "    dataset['x'], \n",
    "    dataset['y'][:,:, None], \n",
    "    batch_size=batch_size, \n",
    "    epochs=epochs, \n",
    "    validation_split=validation_split\n",
    ")"
   ]
  },
  {
   "cell_type": "code",
   "execution_count": 12,
   "metadata": {
    "colab": {
     "base_uri": "https://localhost:8080/",
     "height": 85
    },
    "colab_type": "code",
    "id": "7OZpP5XBB6z4",
    "outputId": "7a129170-a408-4226-e5a1-8cb040ccb3ce"
   },
   "outputs": [
    {
     "name": "stdout",
     "output_type": "stream",
     "text": [
      "Source('en') example: our team consists of highly experienced professionals who have already successfully implemented several [rare]\n",
      "Source('ru') example: наша команда состоит из [rare] специалистов которые уже реализовали ряд успешных проектов\n",
      "1/1 [==============================] - 0s 88ms/sample\n",
      "Translation(en_ru) example: наш команда председателя из [rare] площади [rare] [rare] реализовали [rare] успешных проектов на [rare]\n"
     ]
    }
   ],
   "source": [
    "# Print prediction(s)\n",
    "sentense_id = 2\n",
    "x_sample = dataset['x'][sentense_id]\n",
    "y_sample = dataset['y'][sentense_id]\n",
    "print(\"Source('en') example:\", id_to_text( x_sample, dataset['x_tk'] ))\n",
    "print(\"Source('ru') example:\", id_to_text( y_sample, dataset['y_tk'] ))\n",
    "prediction = bd_rnn_model.predict(x_sample[None, :], verbose=1).squeeze()\n",
    "print(\"Translation(en_ru) example:\", id_to_text( logits_to_id(prediction), dataset['y_tk'] ))"
   ]
  }
 ],
 "metadata": {
  "accelerator": "GPU",
  "colab": {
   "include_colab_link": true,
   "name": "MachineTranslationModels.ipynb",
   "provenance": [],
   "version": "0.3.2"
  },
  "kernelspec": {
   "display_name": "Python 3",
   "language": "python",
   "name": "python3"
  },
  "language_info": {
   "codemirror_mode": {
    "name": "ipython",
    "version": 3
   },
   "file_extension": ".py",
   "mimetype": "text/x-python",
   "name": "python",
   "nbconvert_exporter": "python",
   "pygments_lexer": "ipython3",
   "version": "3.6.8"
  }
 },
 "nbformat": 4,
 "nbformat_minor": 1
}
