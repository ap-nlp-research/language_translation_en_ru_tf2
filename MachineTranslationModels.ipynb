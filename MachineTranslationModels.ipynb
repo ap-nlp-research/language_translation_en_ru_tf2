{
  "nbformat": 4,
  "nbformat_minor": 0,
  "metadata": {
    "colab": {
      "name": "MachineTranslationModels.ipynb",
      "version": "0.3.2",
      "provenance": [],
      "include_colab_link": true
    },
    "language_info": {
      "codemirror_mode": {
        "name": "ipython",
        "version": 3
      },
      "file_extension": ".py",
      "mimetype": "text/x-python",
      "name": "python",
      "nbconvert_exporter": "python",
      "pygments_lexer": "ipython3",
      "version": "3.6.8"
    },
    "kernelspec": {
      "name": "python3",
      "display_name": "Python 3"
    },
    "accelerator": "GPU"
  },
  "cells": [
    {
      "cell_type": "markdown",
      "metadata": {
        "id": "view-in-github",
        "colab_type": "text"
      },
      "source": [
        "<a href=\"https://colab.research.google.com/github/ap-nlp-research/language_translation_en_ru_tf2/blob/master/MachineTranslationModels.ipynb\" target=\"_parent\"><img src=\"https://colab.research.google.com/assets/colab-badge.svg\" alt=\"Open In Colab\"/></a>"
      ]
    },
    {
      "cell_type": "markdown",
      "metadata": {
        "id": "17OD4xTkRxeL",
        "colab_type": "text"
      },
      "source": [
        "# Machine Translation Project\n",
        "\n",
        "\n",
        "The goal of the project is to compare the strength of the following recurrent models:\n",
        "\n",
        "1. Embedded GRU\n",
        "2. Embedded Bidirectional GRU\n",
        "3. Embedded GRU encoder-decoder model\n",
        "4. Embedded GRU encoder-decoder model with Multiplicative Attention\n",
        "\n",
        "The models implemented in Tensorflow 2.0 with Keras as a high-level API. Models are trained and analyzed based on EN-RU [wmt19_translate dataset](https://www.tensorflow.org/datasets/datasets#wmt19_translate) ([ACL 2019 FOURTH CONFERENCE ON MACHINE TRANSLATION (WMT19)](http://www.statmt.org/wmt19/translation-task.html))."
      ]
    },
    {
      "cell_type": "code",
      "metadata": {
        "id": "j3gfCUyDRxeN",
        "colab_type": "code",
        "outputId": "05f65686-8fd3-43bd-8d93-c66432701ff3",
        "colab": {
          "base_uri": "https://localhost:8080/",
          "height": 404
        }
      },
      "source": [
        "!pip install tensorflow-gpu==2.0.0-alpha0"
      ],
      "execution_count": 52,
      "outputs": [
        {
          "output_type": "stream",
          "text": [
            "Requirement already satisfied: tensorflow-gpu==2.0.0-alpha0 in /usr/local/lib/python3.6/dist-packages (2.0.0a0)\n",
            "Requirement already satisfied: protobuf>=3.6.1 in /usr/local/lib/python3.6/dist-packages (from tensorflow-gpu==2.0.0-alpha0) (3.7.1)\n",
            "Requirement already satisfied: wheel>=0.26 in /usr/local/lib/python3.6/dist-packages (from tensorflow-gpu==2.0.0-alpha0) (0.33.1)\n",
            "Requirement already satisfied: tb-nightly<1.14.0a20190302,>=1.14.0a20190301 in /usr/local/lib/python3.6/dist-packages (from tensorflow-gpu==2.0.0-alpha0) (1.14.0a20190301)\n",
            "Requirement already satisfied: astor>=0.6.0 in /usr/local/lib/python3.6/dist-packages (from tensorflow-gpu==2.0.0-alpha0) (0.7.1)\n",
            "Requirement already satisfied: tf-estimator-nightly<1.14.0.dev2019030116,>=1.14.0.dev2019030115 in /usr/local/lib/python3.6/dist-packages (from tensorflow-gpu==2.0.0-alpha0) (1.14.0.dev2019030115)\n",
            "Requirement already satisfied: numpy<2.0,>=1.14.5 in /usr/local/lib/python3.6/dist-packages (from tensorflow-gpu==2.0.0-alpha0) (1.16.3)\n",
            "Requirement already satisfied: google-pasta>=0.1.2 in /usr/local/lib/python3.6/dist-packages (from tensorflow-gpu==2.0.0-alpha0) (0.1.6)\n",
            "Requirement already satisfied: absl-py>=0.7.0 in /usr/local/lib/python3.6/dist-packages (from tensorflow-gpu==2.0.0-alpha0) (0.7.1)\n",
            "Requirement already satisfied: grpcio>=1.8.6 in /usr/local/lib/python3.6/dist-packages (from tensorflow-gpu==2.0.0-alpha0) (1.15.0)\n",
            "Requirement already satisfied: keras-preprocessing>=1.0.5 in /usr/local/lib/python3.6/dist-packages (from tensorflow-gpu==2.0.0-alpha0) (1.0.9)\n",
            "Requirement already satisfied: gast>=0.2.0 in /usr/local/lib/python3.6/dist-packages (from tensorflow-gpu==2.0.0-alpha0) (0.2.2)\n",
            "Requirement already satisfied: keras-applications>=1.0.6 in /usr/local/lib/python3.6/dist-packages (from tensorflow-gpu==2.0.0-alpha0) (1.0.7)\n",
            "Requirement already satisfied: six>=1.10.0 in /usr/local/lib/python3.6/dist-packages (from tensorflow-gpu==2.0.0-alpha0) (1.12.0)\n",
            "Requirement already satisfied: termcolor>=1.1.0 in /usr/local/lib/python3.6/dist-packages (from tensorflow-gpu==2.0.0-alpha0) (1.1.0)\n",
            "Requirement already satisfied: setuptools in /usr/local/lib/python3.6/dist-packages (from protobuf>=3.6.1->tensorflow-gpu==2.0.0-alpha0) (41.0.1)\n",
            "Requirement already satisfied: werkzeug>=0.11.15 in /usr/local/lib/python3.6/dist-packages (from tb-nightly<1.14.0a20190302,>=1.14.0a20190301->tensorflow-gpu==2.0.0-alpha0) (0.15.2)\n",
            "Requirement already satisfied: markdown>=2.6.8 in /usr/local/lib/python3.6/dist-packages (from tb-nightly<1.14.0a20190302,>=1.14.0a20190301->tensorflow-gpu==2.0.0-alpha0) (3.1)\n",
            "Requirement already satisfied: h5py in /usr/local/lib/python3.6/dist-packages (from keras-applications>=1.0.6->tensorflow-gpu==2.0.0-alpha0) (2.8.0)\n"
          ],
          "name": "stdout"
        }
      ]
    },
    {
      "cell_type": "code",
      "metadata": {
        "id": "ecoqx4K1RxeT",
        "colab_type": "code",
        "colab": {}
      },
      "source": [
        "import os\n",
        "import subprocess\n",
        "import re\n",
        "import numpy as np\n",
        "from functools import partial\n",
        "import tensorflow as tf\n",
        "from tensorflow import keras"
      ],
      "execution_count": 0,
      "outputs": []
    },
    {
      "cell_type": "markdown",
      "metadata": {
        "id": "myYPpU6bRxeX",
        "colab_type": "text"
      },
      "source": [
        "## Data ETL\n",
        "\n",
        "The data load, extraction, and transformation is done with data_etl() method. This method returns a dictionary containing source data stored under 'x' label. Target data is stored under 'y' label. In addition to the source and target data, the dictionary contains x and y tockenizers (stored as 'x_tk' and 'y_tk'):"
      ]
    },
    {
      "cell_type": "code",
      "metadata": {
        "id": "S6MZuTfdRxeY",
        "colab_type": "code",
        "colab": {}
      },
      "source": [
        "def data_etl(download_dir: str = \".\", file_name: str = \"en_ru.tgz\", n_lines: int = 3000,\n",
        "             lenght_lim_lower: int = 4, length_lim_upper: int = None, num_words: int = 5000) -> dict:\n",
        "    path = os.path.join(download_dir, file_name)\n",
        "    en_path = os.path.join(download_dir, \"paracrawl-release1.en-ru.zipporah0-dedup-clean.en\")\n",
        "    ru_path = os.path.join(download_dir, \"paracrawl-release1.en-ru.zipporah0-dedup-clean.ru\")\n",
        "\n",
        "    print(\"Start data ETL\")\n",
        "\n",
        "    if os.path.isfile(path):\n",
        "        print(\"Reuse pre-downloaded \" + path)\n",
        "        # extract\n",
        "        subprocess.run(\"tar --extract --file\".split() + [path])\n",
        "    else:\n",
        "        # download a dataset\n",
        "        print(\"Start downloading\")\n",
        "        completed = subprocess.run(\n",
        "                [\"curl\",\n",
        "                 \"https://s3.amazonaws.com/web-language-models/paracrawl/release1/paracrawl-release1.en-ru.zipporah0-dedup-clean.tgz\",\n",
        "                 \"--output\", \n",
        "                 path]\n",
        "        )\n",
        "        if completed.check_returncode() is not None:\n",
        "            print(\"Downloading returned error code:\", completed.check_returncode())\n",
        "    # extract\n",
        "    if not (os.path.isfile(en_path) and os.path.isfile(ru_path)):\n",
        "        subprocess.run(\"tar --extract --file\".split() + [path])\n",
        "    print(\"Data downloaded and extracted\")\n",
        "\n",
        "    # read data\n",
        "    en = read_lines(en_path, n_lines)\n",
        "    ru = read_lines(ru_path, n_lines)\n",
        "\n",
        "    print(\"Extracted successfully\")\n",
        "    # slit numbers\n",
        "    en = [re.sub(\"[0-9]\", \" \\g<0>\", s) for s in en]\n",
        "    ru = [re.sub(\"[0-9]\", \" \\g<0>\", s) for s in ru]\n",
        "    \n",
        "    if length_lim_upper is None:\n",
        "      # remove extra long sequence as they will skew the loss towards 0\n",
        "      lengths = np.array([len(s.split()) for s in en])\n",
        "      l_mean = lengths.mean()\n",
        "      l_std = lengths.mean()\n",
        "      length_lim_upper = int(l_mean + l_std*2)\n",
        "      \n",
        "\n",
        "    # filter out small samples\n",
        "    indices = list(filter(lambda idx: length_lim_upper > len(en[idx].split()) >=lenght_lim_lower, range(len(en))))\n",
        "    en = [en[idx] for idx in indices]\n",
        "    ru = [ru[idx] for idx in indices]\n",
        "\n",
        "    # Tockenize\n",
        "    x, x_tk = tokenize(en, num_words=num_words, filters_regex=None)\n",
        "    y, y_tk = tokenize(ru, num_words=num_words * 3, filters_regex=None)\n",
        "\n",
        "    x = pad(x)\n",
        "    y_length = max([len(sentence) for sentence in y])\n",
        "    y = pad(y, length=x.shape[1] if x.shape[1]>y_length else y_length)\n",
        "\n",
        "    print(\"Transformed successfully\")\n",
        "\n",
        "    return {'x': x, 'y': y, 'x_tk': x_tk, 'y_tk': y_tk}\n",
        "\n",
        "\n",
        "def read_lines(from_file: str, n_lines: int) -> list:\n",
        "    if not os.path.isfile(from_file):\n",
        "        raise FileNotFoundError(from_file)\n",
        "\n",
        "    lines: list = []\n",
        "    with open(from_file, \"r\") as f:\n",
        "        for idx, line in enumerate(f):\n",
        "            if idx < n_lines:\n",
        "                lines.append(line)\n",
        "            else:\n",
        "                break\n",
        "\n",
        "    return lines\n",
        "\n",
        "\n",
        "def tokenize(x: list, num_words: int = 5000, filters_regex: str = None):\n",
        "    \"\"\"\n",
        "    Tokenize x\n",
        "    :param x: List of sentences/strings to be tokenized\n",
        "    :param num_words: maximum number of words in the vocabulary - rare words will be replaced with a [rare] token\n",
        "    :param filters_regex: regular expression filter string such as [^a-zA-Z0-9/-]\n",
        "    :return: Tuple of (tokenized x data, tokenizer used to tokenize x)\n",
        "    \"\"\"\n",
        "    if filters_regex is not None:\n",
        "        x_tk = keras.preprocessing.text.Tokenizer(num_words=num_words, filters=filters_regex, oov_token=\"[rare]\")\n",
        "    else:\n",
        "        x_tk = keras.preprocessing.text.Tokenizer(num_words=num_words, oov_token=\"[rare]\")\n",
        "\n",
        "    x_tk.fit_on_texts(x)\n",
        "    return x_tk.texts_to_sequences(x), x_tk\n",
        "\n",
        "\n",
        "def pad(x, length=None) -> np.ndarray:\n",
        "    \"\"\"\n",
        "    Pad x\n",
        "    :param x: List of sequences.\n",
        "    :param length: Length to pad the sequence to.  If None, use length of longest sequence in x.\n",
        "    :return: Padded numpy array of sequences\n",
        "    \"\"\"\n",
        "    if length is None:\n",
        "        length = max([len(sentence) for sentence in x])\n",
        "\n",
        "    return keras.preprocessing.sequence.pad_sequences(x, maxlen=length, padding='post')"
      ],
      "execution_count": 0,
      "outputs": []
    },
    {
      "cell_type": "markdown",
      "metadata": {
        "id": "s6-C7QMFRxea",
        "colab_type": "text"
      },
      "source": [
        "dataset = data_etl()\n",
        "\n",
        "{\n",
        "    'x': np.ndarray,\n",
        "    'y': np.ndarray,\n",
        "    'x_tk': keras.preprocessing.text.Tokenizer,\n",
        "    'y_tk': keras.preprocessing.text.Tokenizer\n",
        "}"
      ]
    },
    {
      "cell_type": "code",
      "metadata": {
        "id": "hc1RXHOURxeb",
        "colab_type": "code",
        "outputId": "3056762a-290f-4181-907f-0c11fd40f2fc",
        "colab": {
          "base_uri": "https://localhost:8080/",
          "height": 102
        }
      },
      "source": [
        "dataset = data_etl(download_dir=\".\", n_lines=5000, num_words=3000)"
      ],
      "execution_count": 118,
      "outputs": [
        {
          "output_type": "stream",
          "text": [
            "Start data ETL\n",
            "Reuse pre-downloaded ./en_ru.tgz\n",
            "Data downloaded and extracted\n",
            "Extracted successfully\n",
            "Transformed successfully\n"
          ],
          "name": "stdout"
        }
      ]
    },
    {
      "cell_type": "markdown",
      "metadata": {
        "id": "tj5lJy93Rxeg",
        "colab_type": "text"
      },
      "source": [
        "## Utility Functions\n",
        "\n",
        "In addition to the data ETL, the code below provides two additional functions for converting logits into word indicies and converting word indicies into text."
      ]
    },
    {
      "cell_type": "code",
      "metadata": {
        "id": "tjrUMAOPRxeh",
        "colab_type": "code",
        "colab": {}
      },
      "source": [
        "def logits_to_id(logits):\n",
        "    \"\"\"\n",
        "    Turns logits into word ids\n",
        "    :param logits: Logits from a neural network\n",
        "    \"\"\"\n",
        "    return np.argmax(logits, 1)\n",
        "\n",
        "def id_to_text(idx, tokenizer):\n",
        "    \"\"\"\n",
        "    Turns id into text using the tokenizer\n",
        "    :param idx: word id\n",
        "    :param tokenizer: Keras Tokenizer fit on the labels\n",
        "    :return: String that represents the text of the logits\n",
        "    \"\"\"\n",
        "    index_to_words = {id: word for word, id in tokenizer.word_index.items()}\n",
        "    index_to_words[0] = '<PAD>'\n",
        "\n",
        "    return ' '.join([index_to_words[prediction] for prediction in idx]).replace(\" <PAD>\", \"\")"
      ],
      "execution_count": 0,
      "outputs": []
    },
    {
      "cell_type": "code",
      "metadata": {
        "id": "VE45jscXRxek",
        "colab_type": "code",
        "outputId": "8ab4534d-7cb9-4412-98da-32f41fb75854",
        "colab": {
          "base_uri": "https://localhost:8080/",
          "height": 234
        }
      },
      "source": [
        "print(\"Here is an example for a samples number 1:\")\n",
        "print(\"Source('en') example:\", id_to_text(dataset['x'][0], dataset['x_tk']))\n",
        "print(\"Target('ru') example:\", id_to_text(dataset['y'][0], dataset['y_tk']))\n",
        "print(\" \")\n",
        "print(\"Samples number 2:\")\n",
        "print(\"Source('en') example:\", id_to_text(dataset['x'][-10], dataset['x_tk']))\n",
        "print(\"Target('ru') example:\", id_to_text(dataset['y'][-10], dataset['y_tk']))\n",
        "print(\"source vocabulary size:\", dataset['x'].max())\n",
        "print(\"target vocabulary size:\", dataset['y'].max())\n",
        "print(\"Source shape:\", dataset['x'].shape)\n",
        "print(\"Target shape:\", dataset['y'].shape)"
      ],
      "execution_count": 119,
      "outputs": [
        {
          "output_type": "stream",
          "text": [
            "Here is an example for a samples number 1:\n",
            "Source('en') example: the company has been registered with the [rare] court in prague in section b file 1 4 8 5 7\n",
            "Target('ru') example: фирма зарегистрирована в городском суде в г праге раздел б вкладыш 1 4 8 5 7\n",
            " \n",
            "Samples number 2:\n",
            "Source('en') example: pontoon floating platforms are quick to [rare] resistant to [rare] maintenance free and a good value and safe alternative to traditional wooden platforms\n",
            "Target('ru') example: понтонные плавучие пирсы [rare] [rare] установки [rare] к природным воздействиям [rare] и [rare] эксплуатации являются [rare] и безопасной [rare] традиционным деревянным [rare]\n",
            "source vocabulary size: 2999\n",
            "target vocabulary size: 8999\n",
            "Source shape: (3602, 65)\n",
            "Target shape: (3602, 99)\n"
          ],
          "name": "stdout"
        }
      ]
    },
    {
      "cell_type": "markdown",
      "metadata": {
        "id": "g2b8qgl5Rxen",
        "colab_type": "text"
      },
      "source": [
        "## Models\n",
        "\n",
        "The models are implemented with a similar set of parameters. The main idea is to keep models as small and simple as possible to quickly train them and validate the difference the primarely derived from model architectures. The summary of main hyper parameters presented below:\n",
        "\n",
        "* Mapping:\n",
        "    - Embeddings - word indices will be mapped into a 16-dimentional space\n",
        "    - Dense mapping - recurrence outputs mapped into the target-language space, represented with OHE, via Dense mapping\n",
        "* Layers:\n",
        "    - GRU - number of units 256\n",
        "    - Bidirectional GRU - number of untis set up to 128 in order to keep the total number of units the same (256)\n",
        "    - Batch Normalization - To speed up the training batch normalization is inserted after embeddings and before dense mapping\n",
        "* Optimization:\n",
        "    - Adam - all models trained with Adam optimizer and the same learning rate (1e-3)\n",
        "* Loss function:\n",
        "    - sparse_categorical_crossentropy_from_logits - keras.losses.sparse_categorical_crossentropy"
      ]
    },
    {
      "cell_type": "code",
      "metadata": {
        "id": "6ZKvPDCFRxen",
        "colab_type": "code",
        "colab": {}
      },
      "source": [
        "learning_rate = 1e-3\n",
        "embeddings_units = 32\n",
        "gru_units = 256\n",
        "epochs = 60\n",
        "validation_split = 0.1\n",
        "batch_size = 256\n",
        "loss = keras.losses.sparse_categorical_crossentropy"
      ],
      "execution_count": 0,
      "outputs": []
    },
    {
      "cell_type": "markdown",
      "metadata": {
        "id": "1d7e-xH1Rxeq",
        "colab_type": "text"
      },
      "source": [
        "**Model list:**\n",
        "\n",
        "1. Embedded GRU\n",
        "2. Embedded Bidirectional GRU\n",
        "3. Embedded GRU encoder-decoder model\n",
        "4. Embedded GRU encoder-decoder model with Multiplicative Attention\n",
        "\n",
        "#### Model 1 - Embedded GRU"
      ]
    },
    {
      "cell_type": "code",
      "metadata": {
        "id": "l4QhEHNaRxer",
        "colab_type": "code",
        "outputId": "d15fae95-7132-4566-f4a5-7a4c5dd3dd9e",
        "colab": {
          "base_uri": "https://localhost:8080/",
          "height": 544
        }
      },
      "source": [
        "def embedded_gru_model(input_shape, output_sequence_length, source_vocab_size, target_vocab_size):\n",
        "    \"\"\"\n",
        "    Build and train a RNN model using word embedding on x and y\n",
        "    :param input_shape: Tuple of input shape\n",
        "    :param output_sequence_length: Length of output sequence\n",
        "    :param english_vocab_size: Number of unique English words in the dataset\n",
        "    :param french_vocab_size: Number of unique French words in the dataset\n",
        "    :return: Keras model built, but not trained\n",
        "    \"\"\"\n",
        "    input_seq = keras.Input(input_shape[1:])\n",
        "    if output_sequence_length>input_shape[1]:\n",
        "        expanded_seq = keras.backend.squeeze(\n",
        "            keras.layers.ZeroPadding1D((0, output_sequence_length-input_shape[1]))(\n",
        "                keras.layers.Reshape((input_shape[1], 1))(input_seq)\n",
        "            ),\n",
        "            axis = -1\n",
        "        )\n",
        "    else:\n",
        "        expanded_seq = input_seq\n",
        "    embedded_seq = keras.layers.TimeDistributed(keras.layers.BatchNormalization(axis=-1))(\n",
        "        keras.layers.Embedding(source_vocab_size, embeddings_units, input_length=output_sequence_length)(expanded_seq)\n",
        "    )\n",
        "    rnn = keras.layers.TimeDistributed(keras.layers.BatchNormalization(axis=-1))(\n",
        "        keras.layers.GRU(int(gru_units), return_sequences=True)(embedded_seq)\n",
        "    )\n",
        "    logits = keras.layers.TimeDistributed(keras.layers.BatchNormalization(axis=-1))(\n",
        "        keras.layers.TimeDistributed(keras.layers.Dense(4*gru_units, activation='elu'))(rnn)\n",
        "    )\n",
        "    probabilities = keras.layers.TimeDistributed(keras.layers.Dense(target_vocab_size, activation='softmax'))(logits)\n",
        "    \n",
        "    model = keras.Model(input_seq, probabilities)\n",
        "    \n",
        "    model.compile(loss=loss,\n",
        "                  optimizer=keras.optimizers.Adam(learning_rate, clipnorm=3.0),\n",
        "                  metrics=['accuracy'])\n",
        "    return model\n",
        "\n",
        "  \n",
        "# Train the neural network\n",
        "embed_rnn_model = embedded_gru_model(\n",
        "    dataset['x'].shape,\n",
        "    dataset['y'].shape[1],\n",
        "    dataset['x'].max()+1,\n",
        "    dataset['y'].max()+1)\n",
        "\n",
        "\n",
        "\n",
        "print(\"Model summary:\")\n",
        "embed_rnn_model.summary()"
      ],
      "execution_count": 128,
      "outputs": [
        {
          "output_type": "stream",
          "text": [
            "Model summary:\n",
            "Model: \"model_15\"\n",
            "_________________________________________________________________\n",
            "Layer (type)                 Output Shape              Param #   \n",
            "=================================================================\n",
            "input_16 (InputLayer)        [(None, 65)]              0         \n",
            "_________________________________________________________________\n",
            "reshape_3 (Reshape)          (None, 65, 1)             0         \n",
            "_________________________________________________________________\n",
            "zero_padding1d_3 (ZeroPaddin (None, 99, 1)             0         \n",
            "_________________________________________________________________\n",
            "Squeeze_3 (TensorFlowOpLayer [(None, 99)]              0         \n",
            "_________________________________________________________________\n",
            "embedding_15 (Embedding)     (None, 99, 32)            96000     \n",
            "_________________________________________________________________\n",
            "time_distributed_72 (TimeDis (None, 99, 32)            128       \n",
            "_________________________________________________________________\n",
            "unified_gru_15 (UnifiedGRU)  (None, 99, 256)           222720    \n",
            "_________________________________________________________________\n",
            "time_distributed_73 (TimeDis (None, 99, 256)           1024      \n",
            "_________________________________________________________________\n",
            "time_distributed_75 (TimeDis (None, 99, 1024)          263168    \n",
            "_________________________________________________________________\n",
            "time_distributed_74 (TimeDis (None, 99, 1024)          4096      \n",
            "_________________________________________________________________\n",
            "time_distributed_76 (TimeDis (None, 99, 9000)          9225000   \n",
            "=================================================================\n",
            "Total params: 9,812,136\n",
            "Trainable params: 9,809,512\n",
            "Non-trainable params: 2,624\n",
            "_________________________________________________________________\n"
          ],
          "name": "stdout"
        }
      ]
    },
    {
      "cell_type": "code",
      "metadata": {
        "id": "48rVQw-ch2ek",
        "colab_type": "code",
        "colab": {
          "base_uri": "https://localhost:8080/",
          "height": 1751
        },
        "outputId": "194f3601-a45f-4461-90d5-1dc1e9a1e34f"
      },
      "source": [
        "embed_rnn_model.fit(\n",
        "    dataset['x'], \n",
        "    dataset['y'][:,:, None], \n",
        "    batch_size=batch_size, \n",
        "    epochs=epochs, \n",
        "    validation_split=validation_split)"
      ],
      "execution_count": 129,
      "outputs": [
        {
          "output_type": "stream",
          "text": [
            "Train on 3241 samples, validate on 361 samples\n",
            "Epoch 1/50\n",
            "3241/3241 [==============================] - 10s 3ms/sample - loss: 4.3589 - accuracy: 0.7318 - val_loss: 7.5388 - val_accuracy: 0.8467\n",
            "Epoch 2/50\n",
            "3241/3241 [==============================] - 9s 3ms/sample - loss: 1.6856 - accuracy: 0.8346 - val_loss: 6.5262 - val_accuracy: 0.8467\n",
            "Epoch 3/50\n",
            "3241/3241 [==============================] - 9s 3ms/sample - loss: 1.5374 - accuracy: 0.8464 - val_loss: 6.4239 - val_accuracy: 0.8467\n",
            "Epoch 4/50\n",
            "3241/3241 [==============================] - 9s 3ms/sample - loss: 1.4532 - accuracy: 0.8511 - val_loss: 6.8451 - val_accuracy: 0.8467\n",
            "Epoch 5/50\n",
            "3241/3241 [==============================] - 9s 3ms/sample - loss: 1.3640 - accuracy: 0.8552 - val_loss: 7.1115 - val_accuracy: 0.8467\n",
            "Epoch 6/50\n",
            "3241/3241 [==============================] - 8s 3ms/sample - loss: 1.2717 - accuracy: 0.8593 - val_loss: 7.3468 - val_accuracy: 0.8462\n",
            "Epoch 7/50\n",
            "3241/3241 [==============================] - 8s 3ms/sample - loss: 1.1808 - accuracy: 0.8640 - val_loss: 7.6339 - val_accuracy: 0.8340\n",
            "Epoch 8/50\n",
            "3241/3241 [==============================] - 8s 3ms/sample - loss: 1.1052 - accuracy: 0.8693 - val_loss: 7.7769 - val_accuracy: 0.8193\n",
            "Epoch 9/50\n",
            "3241/3241 [==============================] - 8s 3ms/sample - loss: 1.0413 - accuracy: 0.8749 - val_loss: 8.0194 - val_accuracy: 0.8168\n",
            "Epoch 10/50\n",
            "3241/3241 [==============================] - 8s 3ms/sample - loss: 0.9901 - accuracy: 0.8806 - val_loss: 8.1965 - val_accuracy: 0.8159\n",
            "Epoch 11/50\n",
            "3241/3241 [==============================] - 9s 3ms/sample - loss: 0.9435 - accuracy: 0.8859 - val_loss: 8.4560 - val_accuracy: 0.0000e+00\n",
            "Epoch 12/50\n",
            "3241/3241 [==============================] - 9s 3ms/sample - loss: 0.9058 - accuracy: 0.8910 - val_loss: 8.7714 - val_accuracy: 0.0000e+00\n",
            "Epoch 13/50\n",
            "3241/3241 [==============================] - 9s 3ms/sample - loss: 0.8725 - accuracy: 0.8953 - val_loss: 9.2227 - val_accuracy: 0.0000e+00\n",
            "Epoch 14/50\n",
            "3241/3241 [==============================] - 9s 3ms/sample - loss: 0.8461 - accuracy: 0.8989 - val_loss: 9.7550 - val_accuracy: 0.0000e+00\n",
            "Epoch 15/50\n",
            "3241/3241 [==============================] - 9s 3ms/sample - loss: 0.8227 - accuracy: 0.9019 - val_loss: 10.2911 - val_accuracy: 0.0000e+00\n",
            "Epoch 16/50\n",
            "3241/3241 [==============================] - 9s 3ms/sample - loss: 0.8022 - accuracy: 0.9051 - val_loss: 10.8551 - val_accuracy: 2.7981e-05\n",
            "Epoch 17/50\n",
            "3241/3241 [==============================] - 9s 3ms/sample - loss: 0.7827 - accuracy: 0.9072 - val_loss: 11.2940 - val_accuracy: 9.2336e-04\n",
            "Epoch 18/50\n",
            "3241/3241 [==============================] - 9s 3ms/sample - loss: 0.7698 - accuracy: 0.9094 - val_loss: 12.1726 - val_accuracy: 0.0039\n",
            "Epoch 19/50\n",
            "3241/3241 [==============================] - 9s 3ms/sample - loss: 0.7616 - accuracy: 0.9109 - val_loss: 12.2283 - val_accuracy: 0.0012\n",
            "Epoch 20/50\n",
            "3241/3241 [==============================] - 9s 3ms/sample - loss: 0.7418 - accuracy: 0.9137 - val_loss: 12.5642 - val_accuracy: 0.0013\n",
            "Epoch 21/50\n",
            "3241/3241 [==============================] - 9s 3ms/sample - loss: 0.7274 - accuracy: 0.9158 - val_loss: 12.9234 - val_accuracy: 0.0026\n",
            "Epoch 22/50\n",
            "3241/3241 [==============================] - 9s 3ms/sample - loss: 0.7189 - accuracy: 0.9170 - val_loss: 13.0422 - val_accuracy: 0.0018\n",
            "Epoch 23/50\n",
            "3241/3241 [==============================] - 9s 3ms/sample - loss: 0.7072 - accuracy: 0.9192 - val_loss: 13.5547 - val_accuracy: 0.0047\n",
            "Epoch 24/50\n",
            "3241/3241 [==============================] - 9s 3ms/sample - loss: 0.6972 - accuracy: 0.9209 - val_loss: 13.4021 - val_accuracy: 0.0039\n",
            "Epoch 25/50\n",
            "3241/3241 [==============================] - 9s 3ms/sample - loss: 0.6868 - accuracy: 0.9227 - val_loss: 13.7760 - val_accuracy: 0.0044\n",
            "Epoch 26/50\n",
            "3241/3241 [==============================] - 9s 3ms/sample - loss: 0.6800 - accuracy: 0.9240 - val_loss: 13.6307 - val_accuracy: 0.0042\n",
            "Epoch 27/50\n",
            "3241/3241 [==============================] - 9s 3ms/sample - loss: 0.6755 - accuracy: 0.9249 - val_loss: 14.0152 - val_accuracy: 0.0053\n",
            "Epoch 28/50\n",
            "3241/3241 [==============================] - 9s 3ms/sample - loss: 0.6668 - accuracy: 0.9266 - val_loss: 13.9912 - val_accuracy: 0.0079\n",
            "Epoch 29/50\n",
            "3241/3241 [==============================] - 9s 3ms/sample - loss: 0.6574 - accuracy: 0.9280 - val_loss: 14.1769 - val_accuracy: 0.0068\n",
            "Epoch 30/50\n",
            "3241/3241 [==============================] - 9s 3ms/sample - loss: 0.6502 - accuracy: 0.9300 - val_loss: 14.2706 - val_accuracy: 0.0089\n",
            "Epoch 31/50\n",
            "3241/3241 [==============================] - 9s 3ms/sample - loss: 0.6472 - accuracy: 0.9299 - val_loss: 14.1653 - val_accuracy: 0.0080\n",
            "Epoch 32/50\n",
            "3241/3241 [==============================] - 9s 3ms/sample - loss: 0.6424 - accuracy: 0.9310 - val_loss: 14.1969 - val_accuracy: 0.0126\n",
            "Epoch 33/50\n",
            "3241/3241 [==============================] - 9s 3ms/sample - loss: 0.6365 - accuracy: 0.9323 - val_loss: 14.1444 - val_accuracy: 0.0092\n",
            "Epoch 34/50\n",
            "3241/3241 [==============================] - 9s 3ms/sample - loss: 0.6317 - accuracy: 0.9332 - val_loss: 14.0162 - val_accuracy: 0.0116\n",
            "Epoch 35/50\n",
            "3241/3241 [==============================] - 9s 3ms/sample - loss: 0.6270 - accuracy: 0.9346 - val_loss: 13.7166 - val_accuracy: 0.0112\n",
            "Epoch 36/50\n",
            "3241/3241 [==============================] - 9s 3ms/sample - loss: 0.6227 - accuracy: 0.9354 - val_loss: 13.7929 - val_accuracy: 0.0109\n",
            "Epoch 37/50\n",
            "3241/3241 [==============================] - 9s 3ms/sample - loss: 0.6184 - accuracy: 0.9362 - val_loss: 13.0051 - val_accuracy: 0.0128\n",
            "Epoch 38/50\n",
            "3241/3241 [==============================] - 9s 3ms/sample - loss: 0.6163 - accuracy: 0.9363 - val_loss: 12.6940 - val_accuracy: 0.0137\n",
            "Epoch 39/50\n",
            "3241/3241 [==============================] - 9s 3ms/sample - loss: 0.6150 - accuracy: 0.9371 - val_loss: 12.4026 - val_accuracy: 0.0142\n",
            "Epoch 40/50\n",
            "3241/3241 [==============================] - 9s 3ms/sample - loss: 0.6126 - accuracy: 0.9371 - val_loss: 11.7326 - val_accuracy: 0.0140\n",
            "Epoch 41/50\n",
            "3241/3241 [==============================] - 9s 3ms/sample - loss: 0.6120 - accuracy: 0.9377 - val_loss: 11.6331 - val_accuracy: 0.0147\n",
            "Epoch 42/50\n",
            "3241/3241 [==============================] - 9s 3ms/sample - loss: 0.6059 - accuracy: 0.9388 - val_loss: 10.9710 - val_accuracy: 0.0149\n",
            "Epoch 43/50\n",
            "3241/3241 [==============================] - 9s 3ms/sample - loss: 0.6034 - accuracy: 0.9394 - val_loss: 10.5114 - val_accuracy: 0.0154\n",
            "Epoch 44/50\n",
            "3241/3241 [==============================] - 9s 3ms/sample - loss: 0.6007 - accuracy: 0.9400 - val_loss: 9.5637 - val_accuracy: 0.0173\n",
            "Epoch 45/50\n",
            "3241/3241 [==============================] - 9s 3ms/sample - loss: 0.5965 - accuracy: 0.9407 - val_loss: 9.2773 - val_accuracy: 0.0179\n",
            "Epoch 46/50\n",
            "3241/3241 [==============================] - 9s 3ms/sample - loss: 0.5949 - accuracy: 0.9411 - val_loss: 8.5268 - val_accuracy: 0.0247\n",
            "Epoch 47/50\n",
            "3241/3241 [==============================] - 9s 3ms/sample - loss: 0.5951 - accuracy: 0.9412 - val_loss: 7.8106 - val_accuracy: 0.0534\n",
            "Epoch 48/50\n",
            "3241/3241 [==============================] - 9s 3ms/sample - loss: 0.5901 - accuracy: 0.9420 - val_loss: 6.8528 - val_accuracy: 0.7662\n",
            "Epoch 49/50\n",
            "3241/3241 [==============================] - 9s 3ms/sample - loss: 0.5883 - accuracy: 0.9424 - val_loss: 6.5479 - val_accuracy: 0.7846\n",
            "Epoch 50/50\n",
            "3241/3241 [==============================] - 9s 3ms/sample - loss: 0.5851 - accuracy: 0.9429 - val_loss: 5.9340 - val_accuracy: 0.7931\n"
          ],
          "name": "stdout"
        },
        {
          "output_type": "execute_result",
          "data": {
            "text/plain": [
              "<tensorflow.python.keras.callbacks.History at 0x7f7de1514a90>"
            ]
          },
          "metadata": {
            "tags": []
          },
          "execution_count": 129
        }
      ]
    },
    {
      "cell_type": "code",
      "metadata": {
        "id": "u1Y2tPv5Rxev",
        "colab_type": "code",
        "colab": {
          "base_uri": "https://localhost:8080/",
          "height": 110
        },
        "outputId": "efcda1b5-5c27-4f95-a6cf-aac59cf10580"
      },
      "source": [
        "# Print prediction(s)\n",
        "sentense_id = -10\n",
        "x_sample = dataset['x'][sentense_id]\n",
        "y_sample = dataset['y'][sentense_id]\n",
        "print(\"Source('en') example:\", id_to_text( x_sample, dataset['x_tk'] ))\n",
        "print(\"Source('ru') example:\", id_to_text( y_sample, dataset['y_tk'] ))\n",
        "prediction = embed_rnn_model.predict(x_sample[None, :], verbose=1).squeeze()\n",
        "print(\"Translation(en_ru) example:\", id_to_text( logits_to_id(prediction), dataset['y_tk'] ))"
      ],
      "execution_count": 130,
      "outputs": [
        {
          "output_type": "stream",
          "text": [
            "Source('en') example: pontoon floating platforms are quick to [rare] resistant to [rare] maintenance free and a good value and safe alternative to traditional wooden platforms\n",
            "Source('ru') example: понтонные плавучие пирсы [rare] [rare] установки [rare] к природным воздействиям [rare] и [rare] эксплуатации являются [rare] и безопасной [rare] традиционным деревянным [rare]\n",
            "1/1 [==============================] - 0s 80ms/sample\n",
            "Translation(en_ru) example: мы его и пожалуйста не с [rare] в в а в подачи подачи о великого своим данные которая в в так животные и\n"
          ],
          "name": "stdout"
        }
      ]
    },
    {
      "cell_type": "markdown",
      "metadata": {
        "id": "ORh1vXotA9t8",
        "colab_type": "text"
      },
      "source": [
        "#### Model 2 - BiDirectional GRU"
      ]
    },
    {
      "cell_type": "code",
      "metadata": {
        "id": "ZTraW66N41zP",
        "colab_type": "code",
        "colab": {
          "base_uri": "https://localhost:8080/",
          "height": 544
        },
        "outputId": "e1367144-dbd7-4858-e83d-854c7c00eb86"
      },
      "source": [
        "def bd_gru_model(input_shape, output_sequence_length, source_vocab_size, target_vocab_size):\n",
        "    \"\"\"\n",
        "    Build and train a RNN model using word embedding on x and y\n",
        "    :param input_shape: Tuple of input shape\n",
        "    :param output_sequence_length: Length of output sequence\n",
        "    :param english_vocab_size: Number of unique English words in the dataset\n",
        "    :param french_vocab_size: Number of unique French words in the dataset\n",
        "    :return: Keras model built, but not trained\n",
        "    \"\"\"\n",
        "    input_seq = keras.Input(input_shape[1:])\n",
        "    if output_sequence_length>input_shape[1]:\n",
        "        expanded_seq = keras.backend.squeeze(\n",
        "            keras.layers.ZeroPadding1D((0, output_sequence_length-input_shape[1]))(\n",
        "                keras.layers.Reshape((input_shape[1], 1))(input_seq)\n",
        "            ),\n",
        "            axis = -1\n",
        "        )\n",
        "    else:\n",
        "        expanded_seq = input_seq\n",
        "    embedded_seq = keras.layers.TimeDistributed(keras.layers.BatchNormalization(axis=-1))(\n",
        "        keras.layers.Embedding(source_vocab_size, embeddings_units, input_length=output_sequence_length)(expanded_seq)\n",
        "    )\n",
        "    rnn = keras.layers.TimeDistributed(keras.layers.BatchNormalization(axis=-1))(\n",
        "        keras.layers.Bidirectional(keras.layers.GRU(int(gru_units/2), return_sequences=True))(embedded_seq)\n",
        "    )\n",
        "    logits = keras.layers.TimeDistributed(keras.layers.BatchNormalization(axis=-1))(\n",
        "        keras.layers.TimeDistributed(keras.layers.Dense(4*gru_units, activation='elu'))(rnn)\n",
        "    )\n",
        "    probabilities = keras.layers.TimeDistributed(keras.layers.Dense(target_vocab_size, activation='softmax'))(logits)\n",
        "    \n",
        "    model = keras.Model(input_seq, probabilities)\n",
        "    \n",
        "    model.compile(loss=loss,\n",
        "                  optimizer=keras.optimizers.Adam(learning_rate, clipnorm=3.0),\n",
        "                  metrics=['accuracy'])\n",
        "    return model\n",
        "\n",
        "  \n",
        "# Train the neural network\n",
        "bd_rnn_model = embedded_gru_model(\n",
        "    dataset['x'].shape,\n",
        "    dataset['y'].shape[1],\n",
        "    dataset['x'].max()+1,\n",
        "    dataset['y'].max()+1)\n",
        "\n",
        "\n",
        "\n",
        "print(\"Model summary:\")\n",
        "bd_rnn_model.summary()"
      ],
      "execution_count": 132,
      "outputs": [
        {
          "output_type": "stream",
          "text": [
            "Model summary:\n",
            "Model: \"model_17\"\n",
            "_________________________________________________________________\n",
            "Layer (type)                 Output Shape              Param #   \n",
            "=================================================================\n",
            "input_18 (InputLayer)        [(None, 65)]              0         \n",
            "_________________________________________________________________\n",
            "reshape_5 (Reshape)          (None, 65, 1)             0         \n",
            "_________________________________________________________________\n",
            "zero_padding1d_5 (ZeroPaddin (None, 99, 1)             0         \n",
            "_________________________________________________________________\n",
            "Squeeze_5 (TensorFlowOpLayer [(None, 99)]              0         \n",
            "_________________________________________________________________\n",
            "embedding_17 (Embedding)     (None, 99, 32)            96000     \n",
            "_________________________________________________________________\n",
            "time_distributed_82 (TimeDis (None, 99, 32)            128       \n",
            "_________________________________________________________________\n",
            "unified_gru_17 (UnifiedGRU)  (None, 99, 256)           222720    \n",
            "_________________________________________________________________\n",
            "time_distributed_83 (TimeDis (None, 99, 256)           1024      \n",
            "_________________________________________________________________\n",
            "time_distributed_85 (TimeDis (None, 99, 1024)          263168    \n",
            "_________________________________________________________________\n",
            "time_distributed_84 (TimeDis (None, 99, 1024)          4096      \n",
            "_________________________________________________________________\n",
            "time_distributed_86 (TimeDis (None, 99, 9000)          9225000   \n",
            "=================================================================\n",
            "Total params: 9,812,136\n",
            "Trainable params: 9,809,512\n",
            "Non-trainable params: 2,624\n",
            "_________________________________________________________________\n"
          ],
          "name": "stdout"
        }
      ]
    },
    {
      "cell_type": "code",
      "metadata": {
        "id": "hFKX2UJHBmvh",
        "colab_type": "code",
        "colab": {
          "base_uri": "https://localhost:8080/",
          "height": 1751
        },
        "outputId": "d15c65d9-939a-49bd-8947-3c1d7b6fd4cf"
      },
      "source": [
        "bd_rnn_model.fit(\n",
        "    dataset['x'], \n",
        "    dataset['y'][:,:, None], \n",
        "    batch_size=batch_size, \n",
        "    epochs=epochs, \n",
        "    validation_split=validation_split\n",
        ")"
      ],
      "execution_count": 133,
      "outputs": [
        {
          "output_type": "stream",
          "text": [
            "Train on 3241 samples, validate on 361 samples\n",
            "Epoch 1/50\n",
            "3241/3241 [==============================] - 10s 3ms/sample - loss: 4.3500 - accuracy: 0.7389 - val_loss: 7.6888 - val_accuracy: 0.8467\n",
            "Epoch 2/50\n",
            "3241/3241 [==============================] - 9s 3ms/sample - loss: 1.6648 - accuracy: 0.8370 - val_loss: 6.7278 - val_accuracy: 0.8467\n",
            "Epoch 3/50\n",
            "3241/3241 [==============================] - 9s 3ms/sample - loss: 1.5327 - accuracy: 0.8471 - val_loss: 6.4699 - val_accuracy: 0.8467\n",
            "Epoch 4/50\n",
            "3241/3241 [==============================] - 9s 3ms/sample - loss: 1.4463 - accuracy: 0.8511 - val_loss: 6.7554 - val_accuracy: 0.8467\n",
            "Epoch 5/50\n",
            "3241/3241 [==============================] - 9s 3ms/sample - loss: 1.3504 - accuracy: 0.8556 - val_loss: 7.0127 - val_accuracy: 0.8467\n",
            "Epoch 6/50\n",
            "3241/3241 [==============================] - 8s 3ms/sample - loss: 1.2524 - accuracy: 0.8602 - val_loss: 7.2343 - val_accuracy: 0.8467\n",
            "Epoch 7/50\n",
            "3241/3241 [==============================] - 8s 3ms/sample - loss: 1.1654 - accuracy: 0.8651 - val_loss: 7.4398 - val_accuracy: 0.8466\n",
            "Epoch 8/50\n",
            "3241/3241 [==============================] - 8s 3ms/sample - loss: 1.0909 - accuracy: 0.8703 - val_loss: 7.5867 - val_accuracy: 0.8442\n",
            "Epoch 9/50\n",
            "3241/3241 [==============================] - 8s 3ms/sample - loss: 1.0273 - accuracy: 0.8764 - val_loss: 7.7689 - val_accuracy: 0.8228\n",
            "Epoch 10/50\n",
            "3241/3241 [==============================] - 9s 3ms/sample - loss: 0.9779 - accuracy: 0.8814 - val_loss: 8.0675 - val_accuracy: 0.8166\n",
            "Epoch 11/50\n",
            "3241/3241 [==============================] - 9s 3ms/sample - loss: 0.9345 - accuracy: 0.8868 - val_loss: 8.2813 - val_accuracy: 0.8133\n",
            "Epoch 12/50\n",
            "3241/3241 [==============================] - 9s 3ms/sample - loss: 0.8945 - accuracy: 0.8920 - val_loss: 8.7056 - val_accuracy: 1.6788e-04\n",
            "Epoch 13/50\n",
            "3241/3241 [==============================] - 9s 3ms/sample - loss: 0.8641 - accuracy: 0.8960 - val_loss: 9.1718 - val_accuracy: 3.0779e-04\n",
            "Epoch 14/50\n",
            "3241/3241 [==============================] - 9s 3ms/sample - loss: 0.8364 - accuracy: 0.8996 - val_loss: 9.5323 - val_accuracy: 3.9173e-04\n",
            "Epoch 15/50\n",
            "3241/3241 [==============================] - 9s 3ms/sample - loss: 0.8122 - accuracy: 0.9027 - val_loss: 10.1417 - val_accuracy: 4.4769e-04\n",
            "Epoch 16/50\n",
            "3241/3241 [==============================] - 9s 3ms/sample - loss: 0.7925 - accuracy: 0.9054 - val_loss: 10.7238 - val_accuracy: 4.7567e-04\n",
            "Epoch 17/50\n",
            "3241/3241 [==============================] - 9s 3ms/sample - loss: 0.7716 - accuracy: 0.9086 - val_loss: 11.3053 - val_accuracy: 5.5961e-04\n",
            "Epoch 18/50\n",
            "3241/3241 [==============================] - 9s 3ms/sample - loss: 0.7537 - accuracy: 0.9109 - val_loss: 11.7448 - val_accuracy: 5.3163e-04\n",
            "Epoch 19/50\n",
            "3241/3241 [==============================] - 9s 3ms/sample - loss: 0.7400 - accuracy: 0.9127 - val_loss: 12.1865 - val_accuracy: 0.0025\n",
            "Epoch 20/50\n",
            "3241/3241 [==============================] - 9s 3ms/sample - loss: 0.7265 - accuracy: 0.9148 - val_loss: 12.6499 - val_accuracy: 0.0017\n",
            "Epoch 21/50\n",
            "3241/3241 [==============================] - 9s 3ms/sample - loss: 0.7154 - accuracy: 0.9166 - val_loss: 12.8781 - val_accuracy: 0.0015\n",
            "Epoch 22/50\n",
            "3241/3241 [==============================] - 9s 3ms/sample - loss: 0.7060 - accuracy: 0.9183 - val_loss: 13.3121 - val_accuracy: 0.0028\n",
            "Epoch 23/50\n",
            "3241/3241 [==============================] - 9s 3ms/sample - loss: 0.7002 - accuracy: 0.9200 - val_loss: 13.3158 - val_accuracy: 0.0054\n",
            "Epoch 24/50\n",
            "3241/3241 [==============================] - 9s 3ms/sample - loss: 0.6918 - accuracy: 0.9210 - val_loss: 13.6614 - val_accuracy: 0.0086\n",
            "Epoch 25/50\n",
            "3241/3241 [==============================] - 9s 3ms/sample - loss: 0.6809 - accuracy: 0.9229 - val_loss: 13.9674 - val_accuracy: 0.0124\n",
            "Epoch 26/50\n",
            "3241/3241 [==============================] - 9s 3ms/sample - loss: 0.6724 - accuracy: 0.9250 - val_loss: 14.1637 - val_accuracy: 0.0096\n",
            "Epoch 27/50\n",
            "3241/3241 [==============================] - 9s 3ms/sample - loss: 0.6669 - accuracy: 0.9261 - val_loss: 14.3533 - val_accuracy: 0.0097\n",
            "Epoch 28/50\n",
            "3241/3241 [==============================] - 9s 3ms/sample - loss: 0.6605 - accuracy: 0.9272 - val_loss: 14.4925 - val_accuracy: 0.0108\n",
            "Epoch 29/50\n",
            "3241/3241 [==============================] - 9s 3ms/sample - loss: 0.6544 - accuracy: 0.9284 - val_loss: 14.8050 - val_accuracy: 0.0115\n",
            "Epoch 30/50\n",
            "3241/3241 [==============================] - 9s 3ms/sample - loss: 0.6484 - accuracy: 0.9298 - val_loss: 14.7032 - val_accuracy: 0.0169\n",
            "Epoch 31/50\n",
            "3241/3241 [==============================] - 9s 3ms/sample - loss: 0.6487 - accuracy: 0.9304 - val_loss: 14.5157 - val_accuracy: 0.0123\n",
            "Epoch 32/50\n",
            "3241/3241 [==============================] - 9s 3ms/sample - loss: 0.6404 - accuracy: 0.9310 - val_loss: 14.4829 - val_accuracy: 0.0135\n",
            "Epoch 33/50\n",
            "3241/3241 [==============================] - 9s 3ms/sample - loss: 0.6316 - accuracy: 0.9330 - val_loss: 14.3157 - val_accuracy: 0.0161\n",
            "Epoch 34/50\n",
            "3241/3241 [==============================] - 9s 3ms/sample - loss: 0.6269 - accuracy: 0.9343 - val_loss: 14.1719 - val_accuracy: 0.0162\n",
            "Epoch 35/50\n",
            "3241/3241 [==============================] - 9s 3ms/sample - loss: 0.6268 - accuracy: 0.9345 - val_loss: 14.2621 - val_accuracy: 0.0181\n",
            "Epoch 36/50\n",
            "3241/3241 [==============================] - 9s 3ms/sample - loss: 0.6229 - accuracy: 0.9352 - val_loss: 13.9639 - val_accuracy: 0.0180\n",
            "Epoch 37/50\n",
            "3241/3241 [==============================] - 9s 3ms/sample - loss: 0.6152 - accuracy: 0.9363 - val_loss: 13.9193 - val_accuracy: 0.0170\n",
            "Epoch 38/50\n",
            "3241/3241 [==============================] - 9s 3ms/sample - loss: 0.6116 - accuracy: 0.9372 - val_loss: 13.7324 - val_accuracy: 0.0174\n",
            "Epoch 39/50\n",
            "3241/3241 [==============================] - 9s 3ms/sample - loss: 0.6088 - accuracy: 0.9377 - val_loss: 13.1979 - val_accuracy: 0.0191\n",
            "Epoch 40/50\n",
            "3241/3241 [==============================] - 9s 3ms/sample - loss: 0.6055 - accuracy: 0.9384 - val_loss: 12.9813 - val_accuracy: 0.0187\n",
            "Epoch 41/50\n",
            "3241/3241 [==============================] - 9s 3ms/sample - loss: 0.6039 - accuracy: 0.9388 - val_loss: 12.0280 - val_accuracy: 0.0183\n",
            "Epoch 42/50\n",
            "3241/3241 [==============================] - 9s 3ms/sample - loss: 0.6035 - accuracy: 0.9389 - val_loss: 11.9798 - val_accuracy: 0.0206\n",
            "Epoch 43/50\n",
            "3241/3241 [==============================] - 9s 3ms/sample - loss: 0.6021 - accuracy: 0.9394 - val_loss: 11.0671 - val_accuracy: 0.0169\n",
            "Epoch 44/50\n",
            "3241/3241 [==============================] - 9s 3ms/sample - loss: 0.5991 - accuracy: 0.9399 - val_loss: 10.6323 - val_accuracy: 0.0182\n",
            "Epoch 45/50\n",
            "3241/3241 [==============================] - 9s 3ms/sample - loss: 0.5963 - accuracy: 0.9404 - val_loss: 9.9233 - val_accuracy: 0.0192\n",
            "Epoch 46/50\n",
            "3241/3241 [==============================] - 9s 3ms/sample - loss: 0.5925 - accuracy: 0.9409 - val_loss: 9.1822 - val_accuracy: 0.0218\n",
            "Epoch 47/50\n",
            "3241/3241 [==============================] - 9s 3ms/sample - loss: 0.5896 - accuracy: 0.9418 - val_loss: 8.7474 - val_accuracy: 0.0203\n",
            "Epoch 48/50\n",
            "3241/3241 [==============================] - 9s 3ms/sample - loss: 0.5863 - accuracy: 0.9426 - val_loss: 8.1303 - val_accuracy: 0.0355\n",
            "Epoch 49/50\n",
            "3241/3241 [==============================] - 9s 3ms/sample - loss: 0.5838 - accuracy: 0.9432 - val_loss: 7.8062 - val_accuracy: 0.7103\n",
            "Epoch 50/50\n",
            "3241/3241 [==============================] - 9s 3ms/sample - loss: 0.5832 - accuracy: 0.9433 - val_loss: 6.6273 - val_accuracy: 0.7766\n"
          ],
          "name": "stdout"
        },
        {
          "output_type": "execute_result",
          "data": {
            "text/plain": [
              "<tensorflow.python.keras.callbacks.History at 0x7f7dcf7df9b0>"
            ]
          },
          "metadata": {
            "tags": []
          },
          "execution_count": 133
        }
      ]
    },
    {
      "cell_type": "code",
      "metadata": {
        "id": "7OZpP5XBB6z4",
        "colab_type": "code",
        "colab": {
          "base_uri": "https://localhost:8080/",
          "height": 110
        },
        "outputId": "6af3ddad-fbb7-4085-9937-67bf5fd7e599"
      },
      "source": [
        "# Print prediction(s)\n",
        "sentense_id = -10\n",
        "x_sample = dataset['x'][sentense_id]\n",
        "y_sample = dataset['y'][sentense_id]\n",
        "print(\"Source('en') example:\", id_to_text( x_sample, dataset['x_tk'] ))\n",
        "print(\"Source('ru') example:\", id_to_text( y_sample, dataset['y_tk'] ))\n",
        "prediction = bd_rnn_model.predict(x_sample[None, :], verbose=1).squeeze()\n",
        "print(\"Translation(en_ru) example:\", id_to_text( logits_to_id(prediction), dataset['y_tk'] ))"
      ],
      "execution_count": 134,
      "outputs": [
        {
          "output_type": "stream",
          "text": [
            "Source('en') example: pontoon floating platforms are quick to [rare] resistant to [rare] maintenance free and a good value and safe alternative to traditional wooden platforms\n",
            "Source('ru') example: понтонные плавучие пирсы [rare] [rare] установки [rare] к природным воздействиям [rare] и [rare] эксплуатации являются [rare] и безопасной [rare] традиционным деревянным [rare]\n",
            "1/1 [==============================] - 0s 80ms/sample\n",
            "Translation(en_ru) example: в 1 2 на к to на в to в этого в а на и они и интернет св и и по и конечного надежду ты столярным столярным столярным\n"
          ],
          "name": "stdout"
        }
      ]
    }
  ]
}