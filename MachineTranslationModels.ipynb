{
  "nbformat": 4,
  "nbformat_minor": 0,
  "metadata": {
    "colab": {
      "name": "MachineTranslationModels.ipynb",
      "version": "0.3.2",
      "provenance": [],
      "toc_visible": true
    },
    "language_info": {
      "codemirror_mode": {
        "name": "ipython",
        "version": 3
      },
      "file_extension": ".py",
      "mimetype": "text/x-python",
      "name": "python",
      "nbconvert_exporter": "python",
      "pygments_lexer": "ipython3",
      "version": "3.6.8"
    },
    "kernelspec": {
      "name": "python3",
      "display_name": "Python 3"
    },
    "accelerator": "GPU"
  },
  "cells": [
    {
      "cell_type": "markdown",
      "metadata": {
        "id": "17OD4xTkRxeL",
        "colab_type": "text"
      },
      "source": [
        "# Machine Translation Project\n",
        "\n",
        "\n",
        "The goal of the project is to compare the strength of the following recurrent models:\n",
        "\n",
        "1. Embedded GRU\n",
        "2. Embedded Bidirectional GRU\n",
        "3. Embedded GRU encoder-decoder model\n",
        "4. Embedded GRU encoder-decoder model with Multiplicative Attention\n",
        "\n",
        "The models implemented in Tensorflow 2.0 with Keras as a high-level API. Models are trained and analyzed based on [TedHrlrTranslate dataset](https://www.tensorflow.org/datasets/datasets#ted_hrlr_translate)."
      ]
    },
    {
      "cell_type": "code",
      "metadata": {
        "id": "j3gfCUyDRxeN",
        "colab_type": "code",
        "colab": {
          "base_uri": "https://localhost:8080/",
          "height": 399
        },
        "outputId": "fe9e8237-d32e-4446-da18-a00f87b7b515"
      },
      "source": [
        "!pip install tensorflow==2.0.0-alpha0"
      ],
      "execution_count": 2,
      "outputs": [
        {
          "output_type": "stream",
          "text": [
            "Requirement already satisfied: tensorflow==2.0.0-alpha0 in /usr/local/lib/python3.6/dist-packages (2.0.0a0)\n",
            "Requirement already satisfied: google-pasta>=0.1.2 in /usr/local/lib/python3.6/dist-packages (from tensorflow==2.0.0-alpha0) (0.1.6)\n",
            "Requirement already satisfied: astor>=0.6.0 in /usr/local/lib/python3.6/dist-packages (from tensorflow==2.0.0-alpha0) (0.7.1)\n",
            "Requirement already satisfied: numpy<2.0,>=1.14.5 in /usr/local/lib/python3.6/dist-packages (from tensorflow==2.0.0-alpha0) (1.16.3)\n",
            "Requirement already satisfied: absl-py>=0.7.0 in /usr/local/lib/python3.6/dist-packages (from tensorflow==2.0.0-alpha0) (0.7.1)\n",
            "Requirement already satisfied: termcolor>=1.1.0 in /usr/local/lib/python3.6/dist-packages (from tensorflow==2.0.0-alpha0) (1.1.0)\n",
            "Requirement already satisfied: grpcio>=1.8.6 in /usr/local/lib/python3.6/dist-packages (from tensorflow==2.0.0-alpha0) (1.15.0)\n",
            "Requirement already satisfied: keras-preprocessing>=1.0.5 in /usr/local/lib/python3.6/dist-packages (from tensorflow==2.0.0-alpha0) (1.0.9)\n",
            "Requirement already satisfied: wheel>=0.26 in /usr/local/lib/python3.6/dist-packages (from tensorflow==2.0.0-alpha0) (0.33.1)\n",
            "Requirement already satisfied: keras-applications>=1.0.6 in /usr/local/lib/python3.6/dist-packages (from tensorflow==2.0.0-alpha0) (1.0.7)\n",
            "Requirement already satisfied: tf-estimator-nightly<1.14.0.dev2019030116,>=1.14.0.dev2019030115 in /usr/local/lib/python3.6/dist-packages (from tensorflow==2.0.0-alpha0) (1.14.0.dev2019030115)\n",
            "Requirement already satisfied: protobuf>=3.6.1 in /usr/local/lib/python3.6/dist-packages (from tensorflow==2.0.0-alpha0) (3.7.1)\n",
            "Requirement already satisfied: gast>=0.2.0 in /usr/local/lib/python3.6/dist-packages (from tensorflow==2.0.0-alpha0) (0.2.2)\n",
            "Requirement already satisfied: tb-nightly<1.14.0a20190302,>=1.14.0a20190301 in /usr/local/lib/python3.6/dist-packages (from tensorflow==2.0.0-alpha0) (1.14.0a20190301)\n",
            "Requirement already satisfied: six>=1.10.0 in /usr/local/lib/python3.6/dist-packages (from tensorflow==2.0.0-alpha0) (1.12.0)\n",
            "Requirement already satisfied: h5py in /usr/local/lib/python3.6/dist-packages (from keras-applications>=1.0.6->tensorflow==2.0.0-alpha0) (2.8.0)\n",
            "Requirement already satisfied: setuptools in /usr/local/lib/python3.6/dist-packages (from protobuf>=3.6.1->tensorflow==2.0.0-alpha0) (41.0.1)\n",
            "Requirement already satisfied: markdown>=2.6.8 in /usr/local/lib/python3.6/dist-packages (from tb-nightly<1.14.0a20190302,>=1.14.0a20190301->tensorflow==2.0.0-alpha0) (3.1)\n",
            "Requirement already satisfied: werkzeug>=0.11.15 in /usr/local/lib/python3.6/dist-packages (from tb-nightly<1.14.0a20190302,>=1.14.0a20190301->tensorflow==2.0.0-alpha0) (0.15.2)\n"
          ],
          "name": "stdout"
        }
      ]
    },
    {
      "cell_type": "code",
      "metadata": {
        "id": "ecoqx4K1RxeT",
        "colab_type": "code",
        "colab": {}
      },
      "source": [
        "import os\n",
        "import subprocess\n",
        "import re\n",
        "import numpy as np\n",
        "from functools import partial\n",
        "import tensorflow as tf\n",
        "from tensorflow import keras"
      ],
      "execution_count": 0,
      "outputs": []
    },
    {
      "cell_type": "markdown",
      "metadata": {
        "id": "myYPpU6bRxeX",
        "colab_type": "text"
      },
      "source": [
        "## Data ETL\n",
        "\n",
        "The data load, extraction, and transformation is done with data_etl() method. This method returns a dictionary containing source data stored under 'x' label. Target data is stored under 'y' label. In addition to the source and target data, the dictionary contains x and y tockenizers (stored as 'x_tk' and 'y_tk'):"
      ]
    },
    {
      "cell_type": "code",
      "metadata": {
        "id": "S6MZuTfdRxeY",
        "colab_type": "code",
        "colab": {}
      },
      "source": [
        "def data_etl(download_dir: str = \".\", file_name: str = \"en_ru.tgz\", n_lines: int = 3000,\n",
        "             lenght_lim_lower: int = 4, length_lim_upper: int = 500, num_words: int = 5000) -> dict:\n",
        "    path = os.path.join(download_dir, file_name)\n",
        "\n",
        "    print(\"Start data ETL\")\n",
        "\n",
        "    if os.path.isfile(path):\n",
        "        print(\"Reuse pre-downloaded \" + path)\n",
        "        # extract\n",
        "        subprocess.run(\"tar --extract --file\".split() + [path])\n",
        "    else:\n",
        "        # download a dataset\n",
        "        print(\"Start downloading\")\n",
        "        completed = subprocess.run(\n",
        "                [\"curl\",\n",
        "                 \"https://s3.amazonaws.com/web-language-models/paracrawl/release1/paracrawl-release1.en-ru.zipporah0-dedup-clean.tgz\",\n",
        "                 path,\n",
        "                 \"--output\"]\n",
        "        )\n",
        "    \n",
        "        print(\"Downloading return code:\", completed.check_returncode())\n",
        "    # extract\n",
        "    subprocess.run(\"tar --extract --file\".split() + [path])\n",
        "    print(\"Data downloaded and extracted\")\n",
        "\n",
        "    # read data\n",
        "    en = read_lines(\"paracrawl-release1.en-ru.zipporah0-dedup-clean.en\", n_lines)\n",
        "    ru = read_lines(\"paracrawl-release1.en-ru.zipporah0-dedup-clean.ru\", n_lines)\n",
        "\n",
        "    print(\"Extracted successfully\")\n",
        "\n",
        "    # filter out small samples\n",
        "    indices = list(filter(lambda idx: length_lim_upper > len(en[idx].split()) >=lenght_lim_lower, range(len(en))))\n",
        "    en = [en[idx] for idx in indices]\n",
        "    ru = [ru[idx] for idx in indices]\n",
        "\n",
        "    # Tockenize\n",
        "    en = [re.sub(\"[0-9]\", \" \\g<0>\", s) for s in en]\n",
        "    ru = [re.sub(\"[0-9]\", \" \\g<0>\", s) for s in ru]\n",
        "\n",
        "    x, x_tk = tokenize(en, num_words=num_words, filters_regex=None)\n",
        "    y, y_tk = tokenize(ru, num_words=num_words * 3, filters_regex=None)\n",
        "\n",
        "    x = pad(x)\n",
        "    y = pad(y)\n",
        "\n",
        "    print(\"Transformed successfully\")\n",
        "\n",
        "    return {'x': x, 'y': y, 'x_tk': x_tk, 'y_tk': y_tk}\n",
        "\n",
        "\n",
        "def read_lines(from_file: str, n_lines: int) -> list:\n",
        "    if not os.path.isfile(from_file):\n",
        "        raise FileNotFoundError(from_file)\n",
        "\n",
        "    lines: list = []\n",
        "    with open(from_file, \"r\") as f:\n",
        "        for idx, line in enumerate(f):\n",
        "            if idx < n_lines:\n",
        "                lines.append(line)\n",
        "            else:\n",
        "                break\n",
        "\n",
        "    return lines\n",
        "\n",
        "\n",
        "def tokenize(x: list, num_words: int = 5000, filters_regex: str = None):\n",
        "    \"\"\"\n",
        "    Tokenize x\n",
        "    :param x: List of sentences/strings to be tokenized\n",
        "    :param num_words: maximum number of words in the vocabulary - rare words will be replaced with a [rare] token\n",
        "    :param filters_regex: regular expression filter string such as [^a-zA-Z0-9/-]\n",
        "    :return: Tuple of (tokenized x data, tokenizer used to tokenize x)\n",
        "    \"\"\"\n",
        "    if filters_regex is not None:\n",
        "        x_tk = keras.preprocessing.text.Tokenizer(num_words=num_words, filters=filters_regex, oov_token=\"[rare]\")\n",
        "    else:\n",
        "        x_tk = keras.preprocessing.text.Tokenizer(num_words=num_words, oov_token=\"[rare]\")\n",
        "\n",
        "    x_tk.fit_on_texts(x)\n",
        "    return x_tk.texts_to_sequences(x), x_tk\n",
        "\n",
        "\n",
        "def pad(x, length=None) -> np.ndarray:\n",
        "    \"\"\"\n",
        "    Pad x\n",
        "    :param x: List of sequences.\n",
        "    :param length: Length to pad the sequence to.  If None, use length of longest sequence in x.\n",
        "    :return: Padded numpy array of sequences\n",
        "    \"\"\"\n",
        "    if length is None:\n",
        "        length = max([len(sentence) for sentence in x])\n",
        "\n",
        "    return keras.preprocessing.sequence.pad_sequences(x, maxlen=length, padding='post')"
      ],
      "execution_count": 0,
      "outputs": []
    },
    {
      "cell_type": "markdown",
      "metadata": {
        "id": "s6-C7QMFRxea",
        "colab_type": "text"
      },
      "source": [
        "dataset = data_etl()\n",
        "\n",
        "{\n",
        "    'x': np.ndarray,\n",
        "    'y': np.ndarray,\n",
        "    'x_tk': keras.preprocessing.text.Tokenizer,\n",
        "    'y_tk': keras.preprocessing.text.Tokenizer\n",
        "}"
      ]
    },
    {
      "cell_type": "code",
      "metadata": {
        "id": "hc1RXHOURxeb",
        "colab_type": "code",
        "colab": {
          "base_uri": "https://localhost:8080/",
          "height": 102
        },
        "outputId": "144d9984-31d7-420d-98df-610201a729ee"
      },
      "source": [
        "dataset = data_etl(download_dir=\".\", n_lines=5000, num_words=3000)"
      ],
      "execution_count": 5,
      "outputs": [
        {
          "output_type": "stream",
          "text": [
            "Start data ETL\n",
            "Reuse pre-downloaded ./en_ru.tgz\n",
            "Data downloaded and extracted\n",
            "Extracted successfully\n",
            "Transformed successfully\n"
          ],
          "name": "stdout"
        }
      ]
    },
    {
      "cell_type": "markdown",
      "metadata": {
        "id": "tj5lJy93Rxeg",
        "colab_type": "text"
      },
      "source": [
        "## Utility Functions\n",
        "\n",
        "In addition to the data ETL, the code below provides two additional functions for converting logits into word indicies and converting word indicies into text."
      ]
    },
    {
      "cell_type": "code",
      "metadata": {
        "id": "tjrUMAOPRxeh",
        "colab_type": "code",
        "colab": {}
      },
      "source": [
        "def logits_to_id(logits):\n",
        "    \"\"\"\n",
        "    Turns logits into word ids\n",
        "    :param logits: Logits from a neural network\n",
        "    \"\"\"\n",
        "    return [prediction for prediction in np.argmax(logits, 1)]\n",
        "\n",
        "def id_to_text(idx, tokenizer):\n",
        "    \"\"\"\n",
        "    Turns id into text using the tokenizer\n",
        "    :param idx: word id\n",
        "    :param tokenizer: Keras Tokenizer fit on the labels\n",
        "    :return: String that represents the text of the logits\n",
        "    \"\"\"\n",
        "    index_to_words = {id: word for word, id in tokenizer.word_index.items()}\n",
        "    index_to_words[0] = '<PAD>'\n",
        "\n",
        "    return ' '.join([index_to_words[prediction] for prediction in idx]).replace(\" <PAD>\", \"\")"
      ],
      "execution_count": 0,
      "outputs": []
    },
    {
      "cell_type": "code",
      "metadata": {
        "id": "VE45jscXRxek",
        "colab_type": "code",
        "colab": {
          "base_uri": "https://localhost:8080/",
          "height": 229
        },
        "outputId": "6b366611-d412-4017-b790-c658850e54aa"
      },
      "source": [
        "print(\"Here is an example for a samples number 1:\")\n",
        "print(\"Source('en') example:\", id_to_text(dataset['x'][0], dataset['x_tk']))\n",
        "print(\"Target('ru') example:\", id_to_text(dataset['y'][0], dataset['y_tk']))\n",
        "print(\" \")\n",
        "print(\"Samples number 2:\")\n",
        "print(\"Source('en') example:\", id_to_text(dataset['x'][1], dataset['x_tk']))\n",
        "print(\"Target('ru') example:\", id_to_text(dataset['y'][1], dataset['y_tk']))\n",
        "print(\"source vocabulary size:\", dataset['x'].max())\n",
        "print(\"target vocabulary size:\", dataset['y'].max())\n",
        "print(\"Source shape:\", dataset['x'].shape)\n",
        "print(\"Target shape:\", dataset['y'].shape)"
      ],
      "execution_count": 13,
      "outputs": [
        {
          "output_type": "stream",
          "text": [
            "Here is an example for a samples number 1:\n",
            "Source('en') example: the company has been registered with the [rare] court in prague in section b file 1 4 8 5 7\n",
            "Target('ru') example: фирма зарегистрирована в городском суде в г праге раздел б вкладыш 1 4 8 5 7\n",
            " \n",
            "Samples number 2:\n",
            "Source('en') example: since january 2 0 0 9 new office premises in the street v [rare] 3 prague 1 have been opened these premises are situated in a close [rare] of all our partner banks\n",
            "Target('ru') example: с января месяца 2 0 0 9 г открыты новые офисные помещения на улице v kolkovně 3 в колковне д 3 прага 1 данные помещения находятся поблизости всех банков партнеров\n",
            "source vocabulary size: 2999\n",
            "target vocabulary size: 8999\n",
            "Source shape: (3603, 399)\n",
            "Target shape: (3603, 407)\n"
          ],
          "name": "stdout"
        }
      ]
    },
    {
      "cell_type": "markdown",
      "metadata": {
        "id": "g2b8qgl5Rxen",
        "colab_type": "text"
      },
      "source": [
        "## Models\n",
        "\n",
        "The models are implemented with a similar set of parameters. The main idea is to keep models as small and simple as possible to quickly train them and validate the difference the primarely derived from model architectures. The summary of main hyper parameters presented below:\n",
        "\n",
        "* Mapping:\n",
        "    - Embeddings - word indices will be mapped into a 16-dimentional space\n",
        "    - Dense mapping - recurrence outputs mapped into the target-language space, represented with OHE, via Dense mapping\n",
        "* Layers:\n",
        "    - GRU - number of units 128\n",
        "    - Bidirectional GRU - number of untis set up to 64 in order to keep the total number of units the same (128)\n",
        "    - Batch Normalization - To speed up the training batch normalization is inserted after embeddings and before dense mapping\n",
        "* Optimization:\n",
        "    - Adam - all models trained with Adam optimizer and the same learning rate (1e-3)\n",
        "* Loss function:\n",
        "    - sparse_categorical_crossentropy_from_logits - keras.losses.sparse_categorical_crossentropy"
      ]
    },
    {
      "cell_type": "code",
      "metadata": {
        "id": "6ZKvPDCFRxen",
        "colab_type": "code",
        "colab": {}
      },
      "source": [
        "learning_rate = 1e-3\n",
        "embeddings_units = 16\n",
        "gru_units = 128\n",
        "epochs = 2\n",
        "validation_split = 0.05\n",
        "batch_size = 64\n",
        "sparse_categorical_crossentropy_from_logits = partial(keras.losses.sparse_categorical_crossentropy, from_logits=True)"
      ],
      "execution_count": 0,
      "outputs": []
    },
    {
      "cell_type": "markdown",
      "metadata": {
        "id": "1d7e-xH1Rxeq",
        "colab_type": "text"
      },
      "source": [
        "**Model list:**\n",
        "\n",
        "1. Embedded GRU\n",
        "2. Embedded Bidirectional GRU\n",
        "3. Embedded GRU encoder-decoder model\n",
        "4. Embedded GRU encoder-decoder model with Multiplicative Attention\n",
        "\n",
        "#### Model 1 - Embedded GRU"
      ]
    },
    {
      "cell_type": "code",
      "metadata": {
        "id": "l4QhEHNaRxer",
        "colab_type": "code",
        "colab": {
          "base_uri": "https://localhost:8080/",
          "height": 655
        },
        "outputId": "fc042025-2030-43f7-a25c-a81af180841f"
      },
      "source": [
        "def embedded_gru_model(input_shape, output_sequence_length, source_vocab_size, target_vocab_size):\n",
        "    \"\"\"\n",
        "    Build and train a RNN model using word embedding on x and y\n",
        "    :param input_shape: Tuple of input shape\n",
        "    :param output_sequence_length: Length of output sequence\n",
        "    :param english_vocab_size: Number of unique English words in the dataset\n",
        "    :param french_vocab_size: Number of unique French words in the dataset\n",
        "    :return: Keras model built, but not trained\n",
        "    \"\"\"\n",
        "    input_seq = keras.Input(input_shape[1:])\n",
        "    embedded_seq = keras.layers.Embedding(source_vocab_size, embeddings_units, input_length=output_sequence_length)(input_seq)\n",
        "    rnn = keras.layers.GRU(gru_units, return_sequences=True)(embedded_seq)\n",
        "    logits = keras.layers.TimeDistributed(keras.layers.Dense(target_vocab_size))(rnn)\n",
        "    model = keras.Model(input_seq, logits)\n",
        "    model.compile(loss=keras.losses.sparse_categorical_crossentropy,\n",
        "                  optimizer=keras.optimizers.Adam(learning_rate),\n",
        "                  metrics=['accuracy'])\n",
        "    return model\n",
        "\n",
        "# Train the neural network\n",
        "embed_rnn_model = embedded_gru_model(\n",
        "    dataset['x'].shape,\n",
        "    dataset['y'].shape[1],\n",
        "    len(dataset['x_tk'].word_index)+1,\n",
        "    len(dataset['y_tk'].word_index)+1)\n",
        "\n",
        "max_length = max(dataset['x'].shape[1], dataset['y'].shape[1])\n",
        "x = keras.layers.ZeroPadding1D((0, max_length-dataset['x'].shape[1]))(dataset['x'][:,:,None])\n",
        "x = keras.backend.squeeze(x, -1)\n",
        "y = keras.layers.ZeroPadding1D((0, max_length-dataset['y'].shape[1]))(dataset['y'][:,:,None])\n",
        "print(\"Model summary:\")\n",
        "embed_rnn_model.summary()\n",
        "embed_rnn_model.fit(x, \n",
        "                    y, \n",
        "                    batch_size=batch_size, \n",
        "                    epochs=epochs, \n",
        "                    validation_split=validation_split)"
      ],
      "execution_count": 15,
      "outputs": [
        {
          "output_type": "stream",
          "text": [
            "Model summary:\n",
            "Model: \"model_3\"\n",
            "_________________________________________________________________\n",
            "Layer (type)                 Output Shape              Param #   \n",
            "=================================================================\n",
            "input_4 (InputLayer)         [(None, 399)]             0         \n",
            "_________________________________________________________________\n",
            "embedding_3 (Embedding)      (None, 399, 16)           134400    \n",
            "_________________________________________________________________\n",
            "unified_gru_3 (UnifiedGRU)   (None, 399, 128)          56064     \n",
            "_________________________________________________________________\n",
            "time_distributed_3 (TimeDist (None, 399, 14834)        1913586   \n",
            "=================================================================\n",
            "Total params: 2,104,050\n",
            "Trainable params: 2,104,050\n",
            "Non-trainable params: 0\n",
            "_________________________________________________________________\n"
          ],
          "name": "stdout"
        },
        {
          "output_type": "error",
          "ename": "ValueError",
          "evalue": "ignored",
          "traceback": [
            "\u001b[0;31m---------------------------------------------------------------------------\u001b[0m",
            "\u001b[0;31mValueError\u001b[0m                                Traceback (most recent call last)",
            "\u001b[0;32m<ipython-input-15-11dbedcf5036>\u001b[0m in \u001b[0;36m<module>\u001b[0;34m()\u001b[0m\n\u001b[1;32m     35\u001b[0m                     \u001b[0mbatch_size\u001b[0m\u001b[0;34m=\u001b[0m\u001b[0mbatch_size\u001b[0m\u001b[0;34m,\u001b[0m\u001b[0;34m\u001b[0m\u001b[0;34m\u001b[0m\u001b[0m\n\u001b[1;32m     36\u001b[0m                     \u001b[0mepochs\u001b[0m\u001b[0;34m=\u001b[0m\u001b[0mepochs\u001b[0m\u001b[0;34m,\u001b[0m\u001b[0;34m\u001b[0m\u001b[0;34m\u001b[0m\u001b[0m\n\u001b[0;32m---> 37\u001b[0;31m                     validation_split=validation_split)\n\u001b[0m",
            "\u001b[0;32m/usr/local/lib/python3.6/dist-packages/tensorflow/python/keras/engine/training.py\u001b[0m in \u001b[0;36mfit\u001b[0;34m(self, x, y, batch_size, epochs, verbose, callbacks, validation_split, validation_data, shuffle, class_weight, sample_weight, initial_epoch, steps_per_epoch, validation_steps, validation_freq, max_queue_size, workers, use_multiprocessing, **kwargs)\u001b[0m\n\u001b[1;32m    804\u001b[0m         \u001b[0msteps\u001b[0m\u001b[0;34m=\u001b[0m\u001b[0msteps_per_epoch\u001b[0m\u001b[0;34m,\u001b[0m\u001b[0;34m\u001b[0m\u001b[0;34m\u001b[0m\u001b[0m\n\u001b[1;32m    805\u001b[0m         \u001b[0mvalidation_split\u001b[0m\u001b[0;34m=\u001b[0m\u001b[0mvalidation_split\u001b[0m\u001b[0;34m,\u001b[0m\u001b[0;34m\u001b[0m\u001b[0;34m\u001b[0m\u001b[0m\n\u001b[0;32m--> 806\u001b[0;31m         shuffle=shuffle)\n\u001b[0m\u001b[1;32m    807\u001b[0m \u001b[0;34m\u001b[0m\u001b[0m\n\u001b[1;32m    808\u001b[0m     \u001b[0;31m# Prepare validation data.\u001b[0m\u001b[0;34m\u001b[0m\u001b[0;34m\u001b[0m\u001b[0;34m\u001b[0m\u001b[0m\n",
            "\u001b[0;32m/usr/local/lib/python3.6/dist-packages/tensorflow/python/keras/engine/training.py\u001b[0m in \u001b[0;36m_standardize_user_data\u001b[0;34m(self, x, y, sample_weight, class_weight, batch_size, check_steps, steps_name, steps, validation_split, shuffle, extract_tensors_from_dataset)\u001b[0m\n\u001b[1;32m   2594\u001b[0m           \u001b[0mfeed_input_shapes\u001b[0m\u001b[0;34m,\u001b[0m\u001b[0;34m\u001b[0m\u001b[0;34m\u001b[0m\u001b[0m\n\u001b[1;32m   2595\u001b[0m           \u001b[0mcheck_batch_axis\u001b[0m\u001b[0;34m=\u001b[0m\u001b[0;32mFalse\u001b[0m\u001b[0;34m,\u001b[0m  \u001b[0;31m# Don't enforce the batch size.\u001b[0m\u001b[0;34m\u001b[0m\u001b[0;34m\u001b[0m\u001b[0m\n\u001b[0;32m-> 2596\u001b[0;31m           exception_prefix='input')\n\u001b[0m\u001b[1;32m   2597\u001b[0m \u001b[0;34m\u001b[0m\u001b[0m\n\u001b[1;32m   2598\u001b[0m     \u001b[0;32mif\u001b[0m \u001b[0my\u001b[0m \u001b[0;32mis\u001b[0m \u001b[0;32mnot\u001b[0m \u001b[0;32mNone\u001b[0m\u001b[0;34m:\u001b[0m\u001b[0;34m\u001b[0m\u001b[0;34m\u001b[0m\u001b[0m\n",
            "\u001b[0;32m/usr/local/lib/python3.6/dist-packages/tensorflow/python/keras/engine/training_utils.py\u001b[0m in \u001b[0;36mstandardize_input_data\u001b[0;34m(data, names, shapes, check_batch_axis, exception_prefix)\u001b[0m\n\u001b[1;32m    347\u001b[0m                              \u001b[0;34m': expected '\u001b[0m \u001b[0;34m+\u001b[0m \u001b[0mnames\u001b[0m\u001b[0;34m[\u001b[0m\u001b[0mi\u001b[0m\u001b[0;34m]\u001b[0m \u001b[0;34m+\u001b[0m \u001b[0;34m' to have shape '\u001b[0m \u001b[0;34m+\u001b[0m\u001b[0;34m\u001b[0m\u001b[0;34m\u001b[0m\u001b[0m\n\u001b[1;32m    348\u001b[0m                              \u001b[0mstr\u001b[0m\u001b[0;34m(\u001b[0m\u001b[0mshape\u001b[0m\u001b[0;34m)\u001b[0m \u001b[0;34m+\u001b[0m \u001b[0;34m' but got array with shape '\u001b[0m \u001b[0;34m+\u001b[0m\u001b[0;34m\u001b[0m\u001b[0;34m\u001b[0m\u001b[0m\n\u001b[0;32m--> 349\u001b[0;31m                              str(data_shape))\n\u001b[0m\u001b[1;32m    350\u001b[0m   \u001b[0;32mreturn\u001b[0m \u001b[0mdata\u001b[0m\u001b[0;34m\u001b[0m\u001b[0;34m\u001b[0m\u001b[0m\n\u001b[1;32m    351\u001b[0m \u001b[0;34m\u001b[0m\u001b[0m\n",
            "\u001b[0;31mValueError\u001b[0m: Error when checking input: expected input_4 to have shape (399,) but got array with shape (407,)"
          ]
        }
      ]
    },
    {
      "cell_type": "code",
      "metadata": {
        "id": "u1Y2tPv5Rxev",
        "colab_type": "code",
        "colab": {}
      },
      "source": [
        "# Print prediction(s)\n",
        "sentense_id = -1\n",
        "print(\"Source('en') example:\", id_to_text(dataset['x'][sentense_id], dataset['x_tk']))\n",
        "print(\"Target('ru') example:\", id_to_text(dataset['y'][sentense_id], dataset['y_tk']))\n",
        "print(\"Translation(en_ru) example:\", logits_to_text(logits_to_id(embed_rnn_model.predict(dataset['x'][sentense_id][None, :])[0]), dataset['y_tk']))"
      ],
      "execution_count": 0,
      "outputs": []
    }
  ]
}